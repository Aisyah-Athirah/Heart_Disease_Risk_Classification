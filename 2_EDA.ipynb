{
  "nbformat": 4,
  "nbformat_minor": 0,
  "metadata": {
    "colab": {
      "provenance": []
    },
    "kernelspec": {
      "name": "python3",
      "display_name": "Python 3"
    },
    "language_info": {
      "name": "python"
    }
  },
  "cells": [
    {
      "cell_type": "markdown",
      "source": [
        "**IMPORTS**"
      ],
      "metadata": {
        "id": "94YtzrPCsdDC"
      }
    },
    {
      "cell_type": "code",
      "source": [
        "# imports\n",
        "import numpy as np\n",
        "import pandas as pd\n",
        "import matplotlib.pyplot as plt\n",
        "import seaborn as sns\n",
        "\n",
        "# Import train_test_split.\n",
        "from sklearn.model_selection import train_test_split\n",
        "\n",
        "# Import Logistic Regression model.\n",
        "from sklearn.linear_model import LogisticRegression\n",
        "\n",
        "# Import metrics.\n",
        "from sklearn.metrics import confusion_matrix, ConfusionMatrixDisplay, accuracy_score, RocCurveDisplay, roc_auc_score, recall_score, precision_score, f1_score\n",
        "from sklearn import metrics\n",
        "from sklearn.impute import SimpleImputer, KNNImputer\n",
        "from sklearn.preprocessing import StandardScaler\n",
        "from sklearn.pipeline import Pipeline\n",
        "from sklearn.compose import ColumnTransformer\n",
        "from sklearn.preprocessing import OneHotEncoder\n",
        "from scipy.stats import norm"
      ],
      "metadata": {
        "id": "lk1wJfdPUTJr"
      },
      "execution_count": 220,
      "outputs": []
    },
    {
      "cell_type": "markdown",
      "source": [
        "**DATA READING**"
      ],
      "metadata": {
        "id": "gRLgf3GdskZv"
      }
    },
    {
      "cell_type": "code",
      "source": [
        "from google.colab import drive\n",
        "drive.mount('/content/drive')"
      ],
      "metadata": {
        "colab": {
          "base_uri": "https://localhost:8080/"
        },
        "id": "Jpe0fueJUwWF",
        "outputId": "1099699c-3a4e-4abb-ce15-ccd44e8080f0"
      },
      "execution_count": 221,
      "outputs": [
        {
          "output_type": "stream",
          "name": "stdout",
          "text": [
            "Drive already mounted at /content/drive; to attempt to forcibly remount, call drive.mount(\"/content/drive\", force_remount=True).\n"
          ]
        }
      ]
    },
    {
      "cell_type": "code",
      "execution_count": 222,
      "metadata": {
        "id": "ECBMncqzUSOv"
      },
      "outputs": [],
      "source": [
        "df = pd.read_csv('/content/drive/MyDrive/Capstone Project/heart_2022_with_nans.csv')"
      ]
    },
    {
      "cell_type": "code",
      "source": [
        "df.info()"
      ],
      "metadata": {
        "colab": {
          "base_uri": "https://localhost:8080/"
        },
        "id": "VaDzQ6HtUuG1",
        "outputId": "8400a032-e692-4d54-b600-c03df1b6a697"
      },
      "execution_count": 223,
      "outputs": [
        {
          "output_type": "stream",
          "name": "stdout",
          "text": [
            "<class 'pandas.core.frame.DataFrame'>\n",
            "RangeIndex: 445132 entries, 0 to 445131\n",
            "Data columns (total 40 columns):\n",
            " #   Column                     Non-Null Count   Dtype  \n",
            "---  ------                     --------------   -----  \n",
            " 0   State                      445132 non-null  object \n",
            " 1   Sex                        445132 non-null  object \n",
            " 2   GeneralHealth              443934 non-null  object \n",
            " 3   PhysicalHealthDays         434205 non-null  float64\n",
            " 4   MentalHealthDays           436065 non-null  float64\n",
            " 5   LastCheckupTime            436824 non-null  object \n",
            " 6   PhysicalActivities         444039 non-null  object \n",
            " 7   SleepHours                 439679 non-null  float64\n",
            " 8   RemovedTeeth               433772 non-null  object \n",
            " 9   HadHeartAttack             442067 non-null  object \n",
            " 10  HadAngina                  440727 non-null  object \n",
            " 11  HadStroke                  443575 non-null  object \n",
            " 12  HadAsthma                  443359 non-null  object \n",
            " 13  HadSkinCancer              441989 non-null  object \n",
            " 14  HadCOPD                    442913 non-null  object \n",
            " 15  HadDepressiveDisorder      442320 non-null  object \n",
            " 16  HadKidneyDisease           443206 non-null  object \n",
            " 17  HadArthritis               442499 non-null  object \n",
            " 18  HadDiabetes                444045 non-null  object \n",
            " 19  DeafOrHardOfHearing        424485 non-null  object \n",
            " 20  BlindOrVisionDifficulty    423568 non-null  object \n",
            " 21  DifficultyConcentrating    420892 non-null  object \n",
            " 22  DifficultyWalking          421120 non-null  object \n",
            " 23  DifficultyDressingBathing  421217 non-null  object \n",
            " 24  DifficultyErrands          419476 non-null  object \n",
            " 25  SmokerStatus               409670 non-null  object \n",
            " 26  ECigaretteUsage            409472 non-null  object \n",
            " 27  ChestScan                  389086 non-null  object \n",
            " 28  RaceEthnicityCategory      431075 non-null  object \n",
            " 29  AgeCategory                436053 non-null  object \n",
            " 30  HeightInMeters             416480 non-null  float64\n",
            " 31  WeightInKilograms          403054 non-null  float64\n",
            " 32  BMI                        396326 non-null  float64\n",
            " 33  AlcoholDrinkers            398558 non-null  object \n",
            " 34  HIVTesting                 379005 non-null  object \n",
            " 35  FluVaxLast12               398011 non-null  object \n",
            " 36  PneumoVaxEver              368092 non-null  object \n",
            " 37  TetanusLast10Tdap          362616 non-null  object \n",
            " 38  HighRiskLastYear           394509 non-null  object \n",
            " 39  CovidPos                   394368 non-null  object \n",
            "dtypes: float64(6), object(34)\n",
            "memory usage: 135.8+ MB\n"
          ]
        }
      ]
    },
    {
      "cell_type": "code",
      "source": [
        "# check for null values\n",
        "df.isnull().sum()"
      ],
      "metadata": {
        "colab": {
          "base_uri": "https://localhost:8080/"
        },
        "id": "Rk5u7NRJVG3K",
        "outputId": "13269404-5b51-4015-ac3f-476c3b58fb34"
      },
      "execution_count": 224,
      "outputs": [
        {
          "output_type": "execute_result",
          "data": {
            "text/plain": [
              "State                            0\n",
              "Sex                              0\n",
              "GeneralHealth                 1198\n",
              "PhysicalHealthDays           10927\n",
              "MentalHealthDays              9067\n",
              "LastCheckupTime               8308\n",
              "PhysicalActivities            1093\n",
              "SleepHours                    5453\n",
              "RemovedTeeth                 11360\n",
              "HadHeartAttack                3065\n",
              "HadAngina                     4405\n",
              "HadStroke                     1557\n",
              "HadAsthma                     1773\n",
              "HadSkinCancer                 3143\n",
              "HadCOPD                       2219\n",
              "HadDepressiveDisorder         2812\n",
              "HadKidneyDisease              1926\n",
              "HadArthritis                  2633\n",
              "HadDiabetes                   1087\n",
              "DeafOrHardOfHearing          20647\n",
              "BlindOrVisionDifficulty      21564\n",
              "DifficultyConcentrating      24240\n",
              "DifficultyWalking            24012\n",
              "DifficultyDressingBathing    23915\n",
              "DifficultyErrands            25656\n",
              "SmokerStatus                 35462\n",
              "ECigaretteUsage              35660\n",
              "ChestScan                    56046\n",
              "RaceEthnicityCategory        14057\n",
              "AgeCategory                   9079\n",
              "HeightInMeters               28652\n",
              "WeightInKilograms            42078\n",
              "BMI                          48806\n",
              "AlcoholDrinkers              46574\n",
              "HIVTesting                   66127\n",
              "FluVaxLast12                 47121\n",
              "PneumoVaxEver                77040\n",
              "TetanusLast10Tdap            82516\n",
              "HighRiskLastYear             50623\n",
              "CovidPos                     50764\n",
              "dtype: int64"
            ]
          },
          "metadata": {},
          "execution_count": 224
        }
      ]
    },
    {
      "cell_type": "markdown",
      "source": [
        "**DATA CLEANING**"
      ],
      "metadata": {
        "id": "M89gTn9uVarf"
      }
    },
    {
      "cell_type": "code",
      "source": [
        "# drop unnecessary columns and create new dataset\n",
        "df_clean = df.drop(columns=['State', 'RemovedTeeth', 'LastCheckupTime', 'ChestScan',\n",
        "                       'HIVTesting', 'FluVaxLast12', 'PneumoVaxEver', 'TetanusLast10Tdap','HighRiskLastYear'])\n",
        "df_clean.columns"
      ],
      "metadata": {
        "colab": {
          "base_uri": "https://localhost:8080/"
        },
        "id": "astr8XmDVY_r",
        "outputId": "f85ccaec-603d-407f-c471-b710b0c19eb4"
      },
      "execution_count": 225,
      "outputs": [
        {
          "output_type": "execute_result",
          "data": {
            "text/plain": [
              "Index(['Sex', 'GeneralHealth', 'PhysicalHealthDays', 'MentalHealthDays',\n",
              "       'PhysicalActivities', 'SleepHours', 'HadHeartAttack', 'HadAngina',\n",
              "       'HadStroke', 'HadAsthma', 'HadSkinCancer', 'HadCOPD',\n",
              "       'HadDepressiveDisorder', 'HadKidneyDisease', 'HadArthritis',\n",
              "       'HadDiabetes', 'DeafOrHardOfHearing', 'BlindOrVisionDifficulty',\n",
              "       'DifficultyConcentrating', 'DifficultyWalking',\n",
              "       'DifficultyDressingBathing', 'DifficultyErrands', 'SmokerStatus',\n",
              "       'ECigaretteUsage', 'RaceEthnicityCategory', 'AgeCategory',\n",
              "       'HeightInMeters', 'WeightInKilograms', 'BMI', 'AlcoholDrinkers',\n",
              "       'CovidPos'],\n",
              "      dtype='object')"
            ]
          },
          "metadata": {},
          "execution_count": 225
        }
      ]
    },
    {
      "cell_type": "code",
      "source": [
        "# Encoding columns\n",
        "df_clean['HadHeartAttack'] = df_clean['HadHeartAttack'].replace({'Yes': 1, 'No': 0}).astype(bool)\n",
        "df_clean['HadAngina'] = df_clean['HadAngina'].replace({'Yes': 1, 'No': 0}).astype(bool)\n",
        "\n",
        "# Create a new column that will be our target column\n",
        "df_clean['HeartDisease'] = np.logical_or(df_clean['HadHeartAttack'], df_clean['HadAngina'])\n",
        "\n",
        "# Drop old columns\n",
        "df_clean.drop(columns=['HadHeartAttack', 'HadAngina'], inplace=True)\n",
        "\n",
        "# Print the shape of the dataframe\n",
        "print(df_clean.shape)"
      ],
      "metadata": {
        "colab": {
          "base_uri": "https://localhost:8080/"
        },
        "id": "E9HZ0I1OHBny",
        "outputId": "599bf9e3-4a85-4cd0-cde7-8992f3cdb548"
      },
      "execution_count": 226,
      "outputs": [
        {
          "output_type": "stream",
          "name": "stdout",
          "text": [
            "(445132, 30)\n"
          ]
        }
      ]
    },
    {
      "cell_type": "code",
      "source": [
        "# drop NaN values in target columns\n",
        "df_clean = df_clean.dropna( subset=['HeartDisease'] )\n",
        "df_clean.shape\n",
        "df_clean"
      ],
      "metadata": {
        "colab": {
          "base_uri": "https://localhost:8080/",
          "height": 739
        },
        "id": "BZCknbhIV5ga",
        "outputId": "fc9a13d5-1ee5-4796-fa36-38533d2aeb2d"
      },
      "execution_count": 172,
      "outputs": [
        {
          "output_type": "execute_result",
          "data": {
            "text/plain": [
              "           Sex GeneralHealth  PhysicalHealthDays  MentalHealthDays  \\\n",
              "0       Female     Very good                 0.0               0.0   \n",
              "1       Female     Excellent                 0.0               0.0   \n",
              "2       Female     Very good                 2.0               3.0   \n",
              "3       Female     Excellent                 0.0               0.0   \n",
              "4       Female          Fair                 2.0               0.0   \n",
              "...        ...           ...                 ...               ...   \n",
              "445127  Female          Good                 0.0               3.0   \n",
              "445128  Female     Excellent                 2.0               2.0   \n",
              "445129  Female          Poor                30.0              30.0   \n",
              "445130    Male     Very good                 0.0               0.0   \n",
              "445131    Male     Very good                 0.0               1.0   \n",
              "\n",
              "       PhysicalActivities  SleepHours HadStroke HadAsthma HadSkinCancer  \\\n",
              "0                      No         8.0        No        No            No   \n",
              "1                      No         6.0        No        No           Yes   \n",
              "2                     Yes         5.0        No        No           Yes   \n",
              "3                     Yes         7.0        No       Yes            No   \n",
              "4                     Yes         9.0        No        No            No   \n",
              "...                   ...         ...       ...       ...           ...   \n",
              "445127                Yes         6.0        No       Yes            No   \n",
              "445128                Yes         7.0        No        No            No   \n",
              "445129                 No         5.0        No        No            No   \n",
              "445130                 No         5.0        No       Yes            No   \n",
              "445131                Yes         5.0        No        No            No   \n",
              "\n",
              "       HadCOPD  ...                           SmokerStatus  \\\n",
              "0           No  ...                           Never smoked   \n",
              "1           No  ...                           Never smoked   \n",
              "2           No  ...                           Never smoked   \n",
              "3           No  ...  Current smoker - now smokes some days   \n",
              "4           No  ...                           Never smoked   \n",
              "...        ...  ...                                    ...   \n",
              "445127      No  ...                           Never smoked   \n",
              "445128      No  ...                           Never smoked   \n",
              "445129      No  ...  Current smoker - now smokes every day   \n",
              "445130      No  ...                           Never smoked   \n",
              "445131      No  ...                          Former smoker   \n",
              "\n",
              "                                  ECigaretteUsage     RaceEthnicityCategory  \\\n",
              "0                          Not at all (right now)  White only, Non-Hispanic   \n",
              "1       Never used e-cigarettes in my entire life  White only, Non-Hispanic   \n",
              "2       Never used e-cigarettes in my entire life  White only, Non-Hispanic   \n",
              "3       Never used e-cigarettes in my entire life  White only, Non-Hispanic   \n",
              "4       Never used e-cigarettes in my entire life  White only, Non-Hispanic   \n",
              "...                                           ...                       ...   \n",
              "445127  Never used e-cigarettes in my entire life  Black only, Non-Hispanic   \n",
              "445128  Never used e-cigarettes in my entire life  Black only, Non-Hispanic   \n",
              "445129                         Use them some days                       NaN   \n",
              "445130  Never used e-cigarettes in my entire life  Black only, Non-Hispanic   \n",
              "445131                     Not at all (right now)  Black only, Non-Hispanic   \n",
              "\n",
              "            AgeCategory HeightInMeters WeightInKilograms    BMI  \\\n",
              "0       Age 80 or older            NaN               NaN    NaN   \n",
              "1       Age 80 or older           1.60             68.04  26.57   \n",
              "2          Age 55 to 59           1.57             63.50  25.61   \n",
              "3                   NaN           1.65             63.50  23.30   \n",
              "4          Age 40 to 44           1.57             53.98  21.77   \n",
              "...                 ...            ...               ...    ...   \n",
              "445127     Age 18 to 24           1.65             69.85  25.63   \n",
              "445128     Age 50 to 54           1.70             83.01  28.66   \n",
              "445129     Age 65 to 69           1.70             49.90  17.23   \n",
              "445130     Age 70 to 74           1.83            108.86  32.55   \n",
              "445131     Age 40 to 44           1.68             63.50  22.60   \n",
              "\n",
              "       AlcoholDrinkers CovidPos HeartDisease  \n",
              "0                   No       No        False  \n",
              "1                   No       No        False  \n",
              "2                   No      Yes        False  \n",
              "3                   No       No        False  \n",
              "4                  Yes       No        False  \n",
              "...                ...      ...          ...  \n",
              "445127             NaN      Yes        False  \n",
              "445128              No       No        False  \n",
              "445129             NaN       No        False  \n",
              "445130              No      Yes         True  \n",
              "445131             Yes       No        False  \n",
              "\n",
              "[445132 rows x 30 columns]"
            ],
            "text/html": [
              "\n",
              "  <div id=\"df-d41547d5-2543-435b-90d6-d37c3d25f65b\" class=\"colab-df-container\">\n",
              "    <div>\n",
              "<style scoped>\n",
              "    .dataframe tbody tr th:only-of-type {\n",
              "        vertical-align: middle;\n",
              "    }\n",
              "\n",
              "    .dataframe tbody tr th {\n",
              "        vertical-align: top;\n",
              "    }\n",
              "\n",
              "    .dataframe thead th {\n",
              "        text-align: right;\n",
              "    }\n",
              "</style>\n",
              "<table border=\"1\" class=\"dataframe\">\n",
              "  <thead>\n",
              "    <tr style=\"text-align: right;\">\n",
              "      <th></th>\n",
              "      <th>Sex</th>\n",
              "      <th>GeneralHealth</th>\n",
              "      <th>PhysicalHealthDays</th>\n",
              "      <th>MentalHealthDays</th>\n",
              "      <th>PhysicalActivities</th>\n",
              "      <th>SleepHours</th>\n",
              "      <th>HadStroke</th>\n",
              "      <th>HadAsthma</th>\n",
              "      <th>HadSkinCancer</th>\n",
              "      <th>HadCOPD</th>\n",
              "      <th>...</th>\n",
              "      <th>SmokerStatus</th>\n",
              "      <th>ECigaretteUsage</th>\n",
              "      <th>RaceEthnicityCategory</th>\n",
              "      <th>AgeCategory</th>\n",
              "      <th>HeightInMeters</th>\n",
              "      <th>WeightInKilograms</th>\n",
              "      <th>BMI</th>\n",
              "      <th>AlcoholDrinkers</th>\n",
              "      <th>CovidPos</th>\n",
              "      <th>HeartDisease</th>\n",
              "    </tr>\n",
              "  </thead>\n",
              "  <tbody>\n",
              "    <tr>\n",
              "      <th>0</th>\n",
              "      <td>Female</td>\n",
              "      <td>Very good</td>\n",
              "      <td>0.0</td>\n",
              "      <td>0.0</td>\n",
              "      <td>No</td>\n",
              "      <td>8.0</td>\n",
              "      <td>No</td>\n",
              "      <td>No</td>\n",
              "      <td>No</td>\n",
              "      <td>No</td>\n",
              "      <td>...</td>\n",
              "      <td>Never smoked</td>\n",
              "      <td>Not at all (right now)</td>\n",
              "      <td>White only, Non-Hispanic</td>\n",
              "      <td>Age 80 or older</td>\n",
              "      <td>NaN</td>\n",
              "      <td>NaN</td>\n",
              "      <td>NaN</td>\n",
              "      <td>No</td>\n",
              "      <td>No</td>\n",
              "      <td>False</td>\n",
              "    </tr>\n",
              "    <tr>\n",
              "      <th>1</th>\n",
              "      <td>Female</td>\n",
              "      <td>Excellent</td>\n",
              "      <td>0.0</td>\n",
              "      <td>0.0</td>\n",
              "      <td>No</td>\n",
              "      <td>6.0</td>\n",
              "      <td>No</td>\n",
              "      <td>No</td>\n",
              "      <td>Yes</td>\n",
              "      <td>No</td>\n",
              "      <td>...</td>\n",
              "      <td>Never smoked</td>\n",
              "      <td>Never used e-cigarettes in my entire life</td>\n",
              "      <td>White only, Non-Hispanic</td>\n",
              "      <td>Age 80 or older</td>\n",
              "      <td>1.60</td>\n",
              "      <td>68.04</td>\n",
              "      <td>26.57</td>\n",
              "      <td>No</td>\n",
              "      <td>No</td>\n",
              "      <td>False</td>\n",
              "    </tr>\n",
              "    <tr>\n",
              "      <th>2</th>\n",
              "      <td>Female</td>\n",
              "      <td>Very good</td>\n",
              "      <td>2.0</td>\n",
              "      <td>3.0</td>\n",
              "      <td>Yes</td>\n",
              "      <td>5.0</td>\n",
              "      <td>No</td>\n",
              "      <td>No</td>\n",
              "      <td>Yes</td>\n",
              "      <td>No</td>\n",
              "      <td>...</td>\n",
              "      <td>Never smoked</td>\n",
              "      <td>Never used e-cigarettes in my entire life</td>\n",
              "      <td>White only, Non-Hispanic</td>\n",
              "      <td>Age 55 to 59</td>\n",
              "      <td>1.57</td>\n",
              "      <td>63.50</td>\n",
              "      <td>25.61</td>\n",
              "      <td>No</td>\n",
              "      <td>Yes</td>\n",
              "      <td>False</td>\n",
              "    </tr>\n",
              "    <tr>\n",
              "      <th>3</th>\n",
              "      <td>Female</td>\n",
              "      <td>Excellent</td>\n",
              "      <td>0.0</td>\n",
              "      <td>0.0</td>\n",
              "      <td>Yes</td>\n",
              "      <td>7.0</td>\n",
              "      <td>No</td>\n",
              "      <td>Yes</td>\n",
              "      <td>No</td>\n",
              "      <td>No</td>\n",
              "      <td>...</td>\n",
              "      <td>Current smoker - now smokes some days</td>\n",
              "      <td>Never used e-cigarettes in my entire life</td>\n",
              "      <td>White only, Non-Hispanic</td>\n",
              "      <td>NaN</td>\n",
              "      <td>1.65</td>\n",
              "      <td>63.50</td>\n",
              "      <td>23.30</td>\n",
              "      <td>No</td>\n",
              "      <td>No</td>\n",
              "      <td>False</td>\n",
              "    </tr>\n",
              "    <tr>\n",
              "      <th>4</th>\n",
              "      <td>Female</td>\n",
              "      <td>Fair</td>\n",
              "      <td>2.0</td>\n",
              "      <td>0.0</td>\n",
              "      <td>Yes</td>\n",
              "      <td>9.0</td>\n",
              "      <td>No</td>\n",
              "      <td>No</td>\n",
              "      <td>No</td>\n",
              "      <td>No</td>\n",
              "      <td>...</td>\n",
              "      <td>Never smoked</td>\n",
              "      <td>Never used e-cigarettes in my entire life</td>\n",
              "      <td>White only, Non-Hispanic</td>\n",
              "      <td>Age 40 to 44</td>\n",
              "      <td>1.57</td>\n",
              "      <td>53.98</td>\n",
              "      <td>21.77</td>\n",
              "      <td>Yes</td>\n",
              "      <td>No</td>\n",
              "      <td>False</td>\n",
              "    </tr>\n",
              "    <tr>\n",
              "      <th>...</th>\n",
              "      <td>...</td>\n",
              "      <td>...</td>\n",
              "      <td>...</td>\n",
              "      <td>...</td>\n",
              "      <td>...</td>\n",
              "      <td>...</td>\n",
              "      <td>...</td>\n",
              "      <td>...</td>\n",
              "      <td>...</td>\n",
              "      <td>...</td>\n",
              "      <td>...</td>\n",
              "      <td>...</td>\n",
              "      <td>...</td>\n",
              "      <td>...</td>\n",
              "      <td>...</td>\n",
              "      <td>...</td>\n",
              "      <td>...</td>\n",
              "      <td>...</td>\n",
              "      <td>...</td>\n",
              "      <td>...</td>\n",
              "      <td>...</td>\n",
              "    </tr>\n",
              "    <tr>\n",
              "      <th>445127</th>\n",
              "      <td>Female</td>\n",
              "      <td>Good</td>\n",
              "      <td>0.0</td>\n",
              "      <td>3.0</td>\n",
              "      <td>Yes</td>\n",
              "      <td>6.0</td>\n",
              "      <td>No</td>\n",
              "      <td>Yes</td>\n",
              "      <td>No</td>\n",
              "      <td>No</td>\n",
              "      <td>...</td>\n",
              "      <td>Never smoked</td>\n",
              "      <td>Never used e-cigarettes in my entire life</td>\n",
              "      <td>Black only, Non-Hispanic</td>\n",
              "      <td>Age 18 to 24</td>\n",
              "      <td>1.65</td>\n",
              "      <td>69.85</td>\n",
              "      <td>25.63</td>\n",
              "      <td>NaN</td>\n",
              "      <td>Yes</td>\n",
              "      <td>False</td>\n",
              "    </tr>\n",
              "    <tr>\n",
              "      <th>445128</th>\n",
              "      <td>Female</td>\n",
              "      <td>Excellent</td>\n",
              "      <td>2.0</td>\n",
              "      <td>2.0</td>\n",
              "      <td>Yes</td>\n",
              "      <td>7.0</td>\n",
              "      <td>No</td>\n",
              "      <td>No</td>\n",
              "      <td>No</td>\n",
              "      <td>No</td>\n",
              "      <td>...</td>\n",
              "      <td>Never smoked</td>\n",
              "      <td>Never used e-cigarettes in my entire life</td>\n",
              "      <td>Black only, Non-Hispanic</td>\n",
              "      <td>Age 50 to 54</td>\n",
              "      <td>1.70</td>\n",
              "      <td>83.01</td>\n",
              "      <td>28.66</td>\n",
              "      <td>No</td>\n",
              "      <td>No</td>\n",
              "      <td>False</td>\n",
              "    </tr>\n",
              "    <tr>\n",
              "      <th>445129</th>\n",
              "      <td>Female</td>\n",
              "      <td>Poor</td>\n",
              "      <td>30.0</td>\n",
              "      <td>30.0</td>\n",
              "      <td>No</td>\n",
              "      <td>5.0</td>\n",
              "      <td>No</td>\n",
              "      <td>No</td>\n",
              "      <td>No</td>\n",
              "      <td>No</td>\n",
              "      <td>...</td>\n",
              "      <td>Current smoker - now smokes every day</td>\n",
              "      <td>Use them some days</td>\n",
              "      <td>NaN</td>\n",
              "      <td>Age 65 to 69</td>\n",
              "      <td>1.70</td>\n",
              "      <td>49.90</td>\n",
              "      <td>17.23</td>\n",
              "      <td>NaN</td>\n",
              "      <td>No</td>\n",
              "      <td>False</td>\n",
              "    </tr>\n",
              "    <tr>\n",
              "      <th>445130</th>\n",
              "      <td>Male</td>\n",
              "      <td>Very good</td>\n",
              "      <td>0.0</td>\n",
              "      <td>0.0</td>\n",
              "      <td>No</td>\n",
              "      <td>5.0</td>\n",
              "      <td>No</td>\n",
              "      <td>Yes</td>\n",
              "      <td>No</td>\n",
              "      <td>No</td>\n",
              "      <td>...</td>\n",
              "      <td>Never smoked</td>\n",
              "      <td>Never used e-cigarettes in my entire life</td>\n",
              "      <td>Black only, Non-Hispanic</td>\n",
              "      <td>Age 70 to 74</td>\n",
              "      <td>1.83</td>\n",
              "      <td>108.86</td>\n",
              "      <td>32.55</td>\n",
              "      <td>No</td>\n",
              "      <td>Yes</td>\n",
              "      <td>True</td>\n",
              "    </tr>\n",
              "    <tr>\n",
              "      <th>445131</th>\n",
              "      <td>Male</td>\n",
              "      <td>Very good</td>\n",
              "      <td>0.0</td>\n",
              "      <td>1.0</td>\n",
              "      <td>Yes</td>\n",
              "      <td>5.0</td>\n",
              "      <td>No</td>\n",
              "      <td>No</td>\n",
              "      <td>No</td>\n",
              "      <td>No</td>\n",
              "      <td>...</td>\n",
              "      <td>Former smoker</td>\n",
              "      <td>Not at all (right now)</td>\n",
              "      <td>Black only, Non-Hispanic</td>\n",
              "      <td>Age 40 to 44</td>\n",
              "      <td>1.68</td>\n",
              "      <td>63.50</td>\n",
              "      <td>22.60</td>\n",
              "      <td>Yes</td>\n",
              "      <td>No</td>\n",
              "      <td>False</td>\n",
              "    </tr>\n",
              "  </tbody>\n",
              "</table>\n",
              "<p>445132 rows × 30 columns</p>\n",
              "</div>\n",
              "    <div class=\"colab-df-buttons\">\n",
              "\n",
              "  <div class=\"colab-df-container\">\n",
              "    <button class=\"colab-df-convert\" onclick=\"convertToInteractive('df-d41547d5-2543-435b-90d6-d37c3d25f65b')\"\n",
              "            title=\"Convert this dataframe to an interactive table.\"\n",
              "            style=\"display:none;\">\n",
              "\n",
              "  <svg xmlns=\"http://www.w3.org/2000/svg\" height=\"24px\" viewBox=\"0 -960 960 960\">\n",
              "    <path d=\"M120-120v-720h720v720H120Zm60-500h600v-160H180v160Zm220 220h160v-160H400v160Zm0 220h160v-160H400v160ZM180-400h160v-160H180v160Zm440 0h160v-160H620v160ZM180-180h160v-160H180v160Zm440 0h160v-160H620v160Z\"/>\n",
              "  </svg>\n",
              "    </button>\n",
              "\n",
              "  <style>\n",
              "    .colab-df-container {\n",
              "      display:flex;\n",
              "      gap: 12px;\n",
              "    }\n",
              "\n",
              "    .colab-df-convert {\n",
              "      background-color: #E8F0FE;\n",
              "      border: none;\n",
              "      border-radius: 50%;\n",
              "      cursor: pointer;\n",
              "      display: none;\n",
              "      fill: #1967D2;\n",
              "      height: 32px;\n",
              "      padding: 0 0 0 0;\n",
              "      width: 32px;\n",
              "    }\n",
              "\n",
              "    .colab-df-convert:hover {\n",
              "      background-color: #E2EBFA;\n",
              "      box-shadow: 0px 1px 2px rgba(60, 64, 67, 0.3), 0px 1px 3px 1px rgba(60, 64, 67, 0.15);\n",
              "      fill: #174EA6;\n",
              "    }\n",
              "\n",
              "    .colab-df-buttons div {\n",
              "      margin-bottom: 4px;\n",
              "    }\n",
              "\n",
              "    [theme=dark] .colab-df-convert {\n",
              "      background-color: #3B4455;\n",
              "      fill: #D2E3FC;\n",
              "    }\n",
              "\n",
              "    [theme=dark] .colab-df-convert:hover {\n",
              "      background-color: #434B5C;\n",
              "      box-shadow: 0px 1px 3px 1px rgba(0, 0, 0, 0.15);\n",
              "      filter: drop-shadow(0px 1px 2px rgba(0, 0, 0, 0.3));\n",
              "      fill: #FFFFFF;\n",
              "    }\n",
              "  </style>\n",
              "\n",
              "    <script>\n",
              "      const buttonEl =\n",
              "        document.querySelector('#df-d41547d5-2543-435b-90d6-d37c3d25f65b button.colab-df-convert');\n",
              "      buttonEl.style.display =\n",
              "        google.colab.kernel.accessAllowed ? 'block' : 'none';\n",
              "\n",
              "      async function convertToInteractive(key) {\n",
              "        const element = document.querySelector('#df-d41547d5-2543-435b-90d6-d37c3d25f65b');\n",
              "        const dataTable =\n",
              "          await google.colab.kernel.invokeFunction('convertToInteractive',\n",
              "                                                    [key], {});\n",
              "        if (!dataTable) return;\n",
              "\n",
              "        const docLinkHtml = 'Like what you see? Visit the ' +\n",
              "          '<a target=\"_blank\" href=https://colab.research.google.com/notebooks/data_table.ipynb>data table notebook</a>'\n",
              "          + ' to learn more about interactive tables.';\n",
              "        element.innerHTML = '';\n",
              "        dataTable['output_type'] = 'display_data';\n",
              "        await google.colab.output.renderOutput(dataTable, element);\n",
              "        const docLink = document.createElement('div');\n",
              "        docLink.innerHTML = docLinkHtml;\n",
              "        element.appendChild(docLink);\n",
              "      }\n",
              "    </script>\n",
              "  </div>\n",
              "\n",
              "\n",
              "<div id=\"df-38f77b52-ca26-45b5-a3b8-069eb72e071b\">\n",
              "  <button class=\"colab-df-quickchart\" onclick=\"quickchart('df-38f77b52-ca26-45b5-a3b8-069eb72e071b')\"\n",
              "            title=\"Suggest charts\"\n",
              "            style=\"display:none;\">\n",
              "\n",
              "<svg xmlns=\"http://www.w3.org/2000/svg\" height=\"24px\"viewBox=\"0 0 24 24\"\n",
              "     width=\"24px\">\n",
              "    <g>\n",
              "        <path d=\"M19 3H5c-1.1 0-2 .9-2 2v14c0 1.1.9 2 2 2h14c1.1 0 2-.9 2-2V5c0-1.1-.9-2-2-2zM9 17H7v-7h2v7zm4 0h-2V7h2v10zm4 0h-2v-4h2v4z\"/>\n",
              "    </g>\n",
              "</svg>\n",
              "  </button>\n",
              "\n",
              "<style>\n",
              "  .colab-df-quickchart {\n",
              "      --bg-color: #E8F0FE;\n",
              "      --fill-color: #1967D2;\n",
              "      --hover-bg-color: #E2EBFA;\n",
              "      --hover-fill-color: #174EA6;\n",
              "      --disabled-fill-color: #AAA;\n",
              "      --disabled-bg-color: #DDD;\n",
              "  }\n",
              "\n",
              "  [theme=dark] .colab-df-quickchart {\n",
              "      --bg-color: #3B4455;\n",
              "      --fill-color: #D2E3FC;\n",
              "      --hover-bg-color: #434B5C;\n",
              "      --hover-fill-color: #FFFFFF;\n",
              "      --disabled-bg-color: #3B4455;\n",
              "      --disabled-fill-color: #666;\n",
              "  }\n",
              "\n",
              "  .colab-df-quickchart {\n",
              "    background-color: var(--bg-color);\n",
              "    border: none;\n",
              "    border-radius: 50%;\n",
              "    cursor: pointer;\n",
              "    display: none;\n",
              "    fill: var(--fill-color);\n",
              "    height: 32px;\n",
              "    padding: 0;\n",
              "    width: 32px;\n",
              "  }\n",
              "\n",
              "  .colab-df-quickchart:hover {\n",
              "    background-color: var(--hover-bg-color);\n",
              "    box-shadow: 0 1px 2px rgba(60, 64, 67, 0.3), 0 1px 3px 1px rgba(60, 64, 67, 0.15);\n",
              "    fill: var(--button-hover-fill-color);\n",
              "  }\n",
              "\n",
              "  .colab-df-quickchart-complete:disabled,\n",
              "  .colab-df-quickchart-complete:disabled:hover {\n",
              "    background-color: var(--disabled-bg-color);\n",
              "    fill: var(--disabled-fill-color);\n",
              "    box-shadow: none;\n",
              "  }\n",
              "\n",
              "  .colab-df-spinner {\n",
              "    border: 2px solid var(--fill-color);\n",
              "    border-color: transparent;\n",
              "    border-bottom-color: var(--fill-color);\n",
              "    animation:\n",
              "      spin 1s steps(1) infinite;\n",
              "  }\n",
              "\n",
              "  @keyframes spin {\n",
              "    0% {\n",
              "      border-color: transparent;\n",
              "      border-bottom-color: var(--fill-color);\n",
              "      border-left-color: var(--fill-color);\n",
              "    }\n",
              "    20% {\n",
              "      border-color: transparent;\n",
              "      border-left-color: var(--fill-color);\n",
              "      border-top-color: var(--fill-color);\n",
              "    }\n",
              "    30% {\n",
              "      border-color: transparent;\n",
              "      border-left-color: var(--fill-color);\n",
              "      border-top-color: var(--fill-color);\n",
              "      border-right-color: var(--fill-color);\n",
              "    }\n",
              "    40% {\n",
              "      border-color: transparent;\n",
              "      border-right-color: var(--fill-color);\n",
              "      border-top-color: var(--fill-color);\n",
              "    }\n",
              "    60% {\n",
              "      border-color: transparent;\n",
              "      border-right-color: var(--fill-color);\n",
              "    }\n",
              "    80% {\n",
              "      border-color: transparent;\n",
              "      border-right-color: var(--fill-color);\n",
              "      border-bottom-color: var(--fill-color);\n",
              "    }\n",
              "    90% {\n",
              "      border-color: transparent;\n",
              "      border-bottom-color: var(--fill-color);\n",
              "    }\n",
              "  }\n",
              "</style>\n",
              "\n",
              "  <script>\n",
              "    async function quickchart(key) {\n",
              "      const quickchartButtonEl =\n",
              "        document.querySelector('#' + key + ' button');\n",
              "      quickchartButtonEl.disabled = true;  // To prevent multiple clicks.\n",
              "      quickchartButtonEl.classList.add('colab-df-spinner');\n",
              "      try {\n",
              "        const charts = await google.colab.kernel.invokeFunction(\n",
              "            'suggestCharts', [key], {});\n",
              "      } catch (error) {\n",
              "        console.error('Error during call to suggestCharts:', error);\n",
              "      }\n",
              "      quickchartButtonEl.classList.remove('colab-df-spinner');\n",
              "      quickchartButtonEl.classList.add('colab-df-quickchart-complete');\n",
              "    }\n",
              "    (() => {\n",
              "      let quickchartButtonEl =\n",
              "        document.querySelector('#df-38f77b52-ca26-45b5-a3b8-069eb72e071b button');\n",
              "      quickchartButtonEl.style.display =\n",
              "        google.colab.kernel.accessAllowed ? 'block' : 'none';\n",
              "    })();\n",
              "  </script>\n",
              "</div>\n",
              "\n",
              "  <div id=\"id_8ec1852a-d283-489d-a507-52ec0e26d1bd\">\n",
              "    <style>\n",
              "      .colab-df-generate {\n",
              "        background-color: #E8F0FE;\n",
              "        border: none;\n",
              "        border-radius: 50%;\n",
              "        cursor: pointer;\n",
              "        display: none;\n",
              "        fill: #1967D2;\n",
              "        height: 32px;\n",
              "        padding: 0 0 0 0;\n",
              "        width: 32px;\n",
              "      }\n",
              "\n",
              "      .colab-df-generate:hover {\n",
              "        background-color: #E2EBFA;\n",
              "        box-shadow: 0px 1px 2px rgba(60, 64, 67, 0.3), 0px 1px 3px 1px rgba(60, 64, 67, 0.15);\n",
              "        fill: #174EA6;\n",
              "      }\n",
              "\n",
              "      [theme=dark] .colab-df-generate {\n",
              "        background-color: #3B4455;\n",
              "        fill: #D2E3FC;\n",
              "      }\n",
              "\n",
              "      [theme=dark] .colab-df-generate:hover {\n",
              "        background-color: #434B5C;\n",
              "        box-shadow: 0px 1px 3px 1px rgba(0, 0, 0, 0.15);\n",
              "        filter: drop-shadow(0px 1px 2px rgba(0, 0, 0, 0.3));\n",
              "        fill: #FFFFFF;\n",
              "      }\n",
              "    </style>\n",
              "    <button class=\"colab-df-generate\" onclick=\"generateWithVariable('df_clean')\"\n",
              "            title=\"Generate code using this dataframe.\"\n",
              "            style=\"display:none;\">\n",
              "\n",
              "  <svg xmlns=\"http://www.w3.org/2000/svg\" height=\"24px\"viewBox=\"0 0 24 24\"\n",
              "       width=\"24px\">\n",
              "    <path d=\"M7,19H8.4L18.45,9,17,7.55,7,17.6ZM5,21V16.75L18.45,3.32a2,2,0,0,1,2.83,0l1.4,1.43a1.91,1.91,0,0,1,.58,1.4,1.91,1.91,0,0,1-.58,1.4L9.25,21ZM18.45,9,17,7.55Zm-12,3A5.31,5.31,0,0,0,4.9,8.1,5.31,5.31,0,0,0,1,6.5,5.31,5.31,0,0,0,4.9,4.9,5.31,5.31,0,0,0,6.5,1,5.31,5.31,0,0,0,8.1,4.9,5.31,5.31,0,0,0,12,6.5,5.46,5.46,0,0,0,6.5,12Z\"/>\n",
              "  </svg>\n",
              "    </button>\n",
              "    <script>\n",
              "      (() => {\n",
              "      const buttonEl =\n",
              "        document.querySelector('#id_8ec1852a-d283-489d-a507-52ec0e26d1bd button.colab-df-generate');\n",
              "      buttonEl.style.display =\n",
              "        google.colab.kernel.accessAllowed ? 'block' : 'none';\n",
              "\n",
              "      buttonEl.onclick = () => {\n",
              "        google.colab.notebook.generateWithVariable('df_clean');\n",
              "      }\n",
              "      })();\n",
              "    </script>\n",
              "  </div>\n",
              "\n",
              "    </div>\n",
              "  </div>\n"
            ],
            "application/vnd.google.colaboratory.intrinsic+json": {
              "type": "dataframe",
              "variable_name": "df_clean"
            }
          },
          "metadata": {},
          "execution_count": 172
        }
      ]
    },
    {
      "cell_type": "code",
      "source": [
        "df_clean.describe(include='object')"
      ],
      "metadata": {
        "colab": {
          "base_uri": "https://localhost:8080/",
          "height": 259
        },
        "id": "tKl9xsayWSfN",
        "outputId": "9578eb7e-505c-4c40-ef10-5dfc40184d5e"
      },
      "execution_count": 173,
      "outputs": [
        {
          "output_type": "execute_result",
          "data": {
            "text/plain": [
              "           Sex GeneralHealth PhysicalActivities HadStroke HadAsthma  \\\n",
              "count   445132        443934             444039    443575    443359   \n",
              "unique       2             5                  2         2         2   \n",
              "top     Female     Very good                Yes        No        No   \n",
              "freq    235893        148444             337559    424336    376665   \n",
              "\n",
              "       HadSkinCancer HadCOPD HadDepressiveDisorder HadKidneyDisease  \\\n",
              "count         441989  442913                442320           443206   \n",
              "unique             2       2                     2                2   \n",
              "top               No      No                    No               No   \n",
              "freq          406504  407257                350910           422891   \n",
              "\n",
              "       HadArthritis  ... DifficultyConcentrating DifficultyWalking  \\\n",
              "count        442499  ...                  420892            421120   \n",
              "unique            2  ...                       2                 2   \n",
              "top              No  ...                      No                No   \n",
              "freq         291351  ...                  370792            353039   \n",
              "\n",
              "       DifficultyDressingBathing DifficultyErrands  SmokerStatus  \\\n",
              "count                     421217            419476        409670   \n",
              "unique                         2                 2             4   \n",
              "top                           No                No  Never smoked   \n",
              "freq                      404404            387029        245955   \n",
              "\n",
              "                                  ECigaretteUsage     RaceEthnicityCategory  \\\n",
              "count                                      409472                    431075   \n",
              "unique                                          4                         5   \n",
              "top     Never used e-cigarettes in my entire life  White only, Non-Hispanic   \n",
              "freq                                       311988                    320421   \n",
              "\n",
              "         AgeCategory AlcoholDrinkers CovidPos  \n",
              "count         436053          398558   394368  \n",
              "unique            13               2        3  \n",
              "top     Age 65 to 69             Yes       No  \n",
              "freq           47099          210891   270055  \n",
              "\n",
              "[4 rows x 23 columns]"
            ],
            "text/html": [
              "\n",
              "  <div id=\"df-c9556a4f-d8ba-4f49-a459-43e9bf6a1d57\" class=\"colab-df-container\">\n",
              "    <div>\n",
              "<style scoped>\n",
              "    .dataframe tbody tr th:only-of-type {\n",
              "        vertical-align: middle;\n",
              "    }\n",
              "\n",
              "    .dataframe tbody tr th {\n",
              "        vertical-align: top;\n",
              "    }\n",
              "\n",
              "    .dataframe thead th {\n",
              "        text-align: right;\n",
              "    }\n",
              "</style>\n",
              "<table border=\"1\" class=\"dataframe\">\n",
              "  <thead>\n",
              "    <tr style=\"text-align: right;\">\n",
              "      <th></th>\n",
              "      <th>Sex</th>\n",
              "      <th>GeneralHealth</th>\n",
              "      <th>PhysicalActivities</th>\n",
              "      <th>HadStroke</th>\n",
              "      <th>HadAsthma</th>\n",
              "      <th>HadSkinCancer</th>\n",
              "      <th>HadCOPD</th>\n",
              "      <th>HadDepressiveDisorder</th>\n",
              "      <th>HadKidneyDisease</th>\n",
              "      <th>HadArthritis</th>\n",
              "      <th>...</th>\n",
              "      <th>DifficultyConcentrating</th>\n",
              "      <th>DifficultyWalking</th>\n",
              "      <th>DifficultyDressingBathing</th>\n",
              "      <th>DifficultyErrands</th>\n",
              "      <th>SmokerStatus</th>\n",
              "      <th>ECigaretteUsage</th>\n",
              "      <th>RaceEthnicityCategory</th>\n",
              "      <th>AgeCategory</th>\n",
              "      <th>AlcoholDrinkers</th>\n",
              "      <th>CovidPos</th>\n",
              "    </tr>\n",
              "  </thead>\n",
              "  <tbody>\n",
              "    <tr>\n",
              "      <th>count</th>\n",
              "      <td>445132</td>\n",
              "      <td>443934</td>\n",
              "      <td>444039</td>\n",
              "      <td>443575</td>\n",
              "      <td>443359</td>\n",
              "      <td>441989</td>\n",
              "      <td>442913</td>\n",
              "      <td>442320</td>\n",
              "      <td>443206</td>\n",
              "      <td>442499</td>\n",
              "      <td>...</td>\n",
              "      <td>420892</td>\n",
              "      <td>421120</td>\n",
              "      <td>421217</td>\n",
              "      <td>419476</td>\n",
              "      <td>409670</td>\n",
              "      <td>409472</td>\n",
              "      <td>431075</td>\n",
              "      <td>436053</td>\n",
              "      <td>398558</td>\n",
              "      <td>394368</td>\n",
              "    </tr>\n",
              "    <tr>\n",
              "      <th>unique</th>\n",
              "      <td>2</td>\n",
              "      <td>5</td>\n",
              "      <td>2</td>\n",
              "      <td>2</td>\n",
              "      <td>2</td>\n",
              "      <td>2</td>\n",
              "      <td>2</td>\n",
              "      <td>2</td>\n",
              "      <td>2</td>\n",
              "      <td>2</td>\n",
              "      <td>...</td>\n",
              "      <td>2</td>\n",
              "      <td>2</td>\n",
              "      <td>2</td>\n",
              "      <td>2</td>\n",
              "      <td>4</td>\n",
              "      <td>4</td>\n",
              "      <td>5</td>\n",
              "      <td>13</td>\n",
              "      <td>2</td>\n",
              "      <td>3</td>\n",
              "    </tr>\n",
              "    <tr>\n",
              "      <th>top</th>\n",
              "      <td>Female</td>\n",
              "      <td>Very good</td>\n",
              "      <td>Yes</td>\n",
              "      <td>No</td>\n",
              "      <td>No</td>\n",
              "      <td>No</td>\n",
              "      <td>No</td>\n",
              "      <td>No</td>\n",
              "      <td>No</td>\n",
              "      <td>No</td>\n",
              "      <td>...</td>\n",
              "      <td>No</td>\n",
              "      <td>No</td>\n",
              "      <td>No</td>\n",
              "      <td>No</td>\n",
              "      <td>Never smoked</td>\n",
              "      <td>Never used e-cigarettes in my entire life</td>\n",
              "      <td>White only, Non-Hispanic</td>\n",
              "      <td>Age 65 to 69</td>\n",
              "      <td>Yes</td>\n",
              "      <td>No</td>\n",
              "    </tr>\n",
              "    <tr>\n",
              "      <th>freq</th>\n",
              "      <td>235893</td>\n",
              "      <td>148444</td>\n",
              "      <td>337559</td>\n",
              "      <td>424336</td>\n",
              "      <td>376665</td>\n",
              "      <td>406504</td>\n",
              "      <td>407257</td>\n",
              "      <td>350910</td>\n",
              "      <td>422891</td>\n",
              "      <td>291351</td>\n",
              "      <td>...</td>\n",
              "      <td>370792</td>\n",
              "      <td>353039</td>\n",
              "      <td>404404</td>\n",
              "      <td>387029</td>\n",
              "      <td>245955</td>\n",
              "      <td>311988</td>\n",
              "      <td>320421</td>\n",
              "      <td>47099</td>\n",
              "      <td>210891</td>\n",
              "      <td>270055</td>\n",
              "    </tr>\n",
              "  </tbody>\n",
              "</table>\n",
              "<p>4 rows × 23 columns</p>\n",
              "</div>\n",
              "    <div class=\"colab-df-buttons\">\n",
              "\n",
              "  <div class=\"colab-df-container\">\n",
              "    <button class=\"colab-df-convert\" onclick=\"convertToInteractive('df-c9556a4f-d8ba-4f49-a459-43e9bf6a1d57')\"\n",
              "            title=\"Convert this dataframe to an interactive table.\"\n",
              "            style=\"display:none;\">\n",
              "\n",
              "  <svg xmlns=\"http://www.w3.org/2000/svg\" height=\"24px\" viewBox=\"0 -960 960 960\">\n",
              "    <path d=\"M120-120v-720h720v720H120Zm60-500h600v-160H180v160Zm220 220h160v-160H400v160Zm0 220h160v-160H400v160ZM180-400h160v-160H180v160Zm440 0h160v-160H620v160ZM180-180h160v-160H180v160Zm440 0h160v-160H620v160Z\"/>\n",
              "  </svg>\n",
              "    </button>\n",
              "\n",
              "  <style>\n",
              "    .colab-df-container {\n",
              "      display:flex;\n",
              "      gap: 12px;\n",
              "    }\n",
              "\n",
              "    .colab-df-convert {\n",
              "      background-color: #E8F0FE;\n",
              "      border: none;\n",
              "      border-radius: 50%;\n",
              "      cursor: pointer;\n",
              "      display: none;\n",
              "      fill: #1967D2;\n",
              "      height: 32px;\n",
              "      padding: 0 0 0 0;\n",
              "      width: 32px;\n",
              "    }\n",
              "\n",
              "    .colab-df-convert:hover {\n",
              "      background-color: #E2EBFA;\n",
              "      box-shadow: 0px 1px 2px rgba(60, 64, 67, 0.3), 0px 1px 3px 1px rgba(60, 64, 67, 0.15);\n",
              "      fill: #174EA6;\n",
              "    }\n",
              "\n",
              "    .colab-df-buttons div {\n",
              "      margin-bottom: 4px;\n",
              "    }\n",
              "\n",
              "    [theme=dark] .colab-df-convert {\n",
              "      background-color: #3B4455;\n",
              "      fill: #D2E3FC;\n",
              "    }\n",
              "\n",
              "    [theme=dark] .colab-df-convert:hover {\n",
              "      background-color: #434B5C;\n",
              "      box-shadow: 0px 1px 3px 1px rgba(0, 0, 0, 0.15);\n",
              "      filter: drop-shadow(0px 1px 2px rgba(0, 0, 0, 0.3));\n",
              "      fill: #FFFFFF;\n",
              "    }\n",
              "  </style>\n",
              "\n",
              "    <script>\n",
              "      const buttonEl =\n",
              "        document.querySelector('#df-c9556a4f-d8ba-4f49-a459-43e9bf6a1d57 button.colab-df-convert');\n",
              "      buttonEl.style.display =\n",
              "        google.colab.kernel.accessAllowed ? 'block' : 'none';\n",
              "\n",
              "      async function convertToInteractive(key) {\n",
              "        const element = document.querySelector('#df-c9556a4f-d8ba-4f49-a459-43e9bf6a1d57');\n",
              "        const dataTable =\n",
              "          await google.colab.kernel.invokeFunction('convertToInteractive',\n",
              "                                                    [key], {});\n",
              "        if (!dataTable) return;\n",
              "\n",
              "        const docLinkHtml = 'Like what you see? Visit the ' +\n",
              "          '<a target=\"_blank\" href=https://colab.research.google.com/notebooks/data_table.ipynb>data table notebook</a>'\n",
              "          + ' to learn more about interactive tables.';\n",
              "        element.innerHTML = '';\n",
              "        dataTable['output_type'] = 'display_data';\n",
              "        await google.colab.output.renderOutput(dataTable, element);\n",
              "        const docLink = document.createElement('div');\n",
              "        docLink.innerHTML = docLinkHtml;\n",
              "        element.appendChild(docLink);\n",
              "      }\n",
              "    </script>\n",
              "  </div>\n",
              "\n",
              "\n",
              "<div id=\"df-bac866bd-9c1e-477d-a7ed-5587b8818b08\">\n",
              "  <button class=\"colab-df-quickchart\" onclick=\"quickchart('df-bac866bd-9c1e-477d-a7ed-5587b8818b08')\"\n",
              "            title=\"Suggest charts\"\n",
              "            style=\"display:none;\">\n",
              "\n",
              "<svg xmlns=\"http://www.w3.org/2000/svg\" height=\"24px\"viewBox=\"0 0 24 24\"\n",
              "     width=\"24px\">\n",
              "    <g>\n",
              "        <path d=\"M19 3H5c-1.1 0-2 .9-2 2v14c0 1.1.9 2 2 2h14c1.1 0 2-.9 2-2V5c0-1.1-.9-2-2-2zM9 17H7v-7h2v7zm4 0h-2V7h2v10zm4 0h-2v-4h2v4z\"/>\n",
              "    </g>\n",
              "</svg>\n",
              "  </button>\n",
              "\n",
              "<style>\n",
              "  .colab-df-quickchart {\n",
              "      --bg-color: #E8F0FE;\n",
              "      --fill-color: #1967D2;\n",
              "      --hover-bg-color: #E2EBFA;\n",
              "      --hover-fill-color: #174EA6;\n",
              "      --disabled-fill-color: #AAA;\n",
              "      --disabled-bg-color: #DDD;\n",
              "  }\n",
              "\n",
              "  [theme=dark] .colab-df-quickchart {\n",
              "      --bg-color: #3B4455;\n",
              "      --fill-color: #D2E3FC;\n",
              "      --hover-bg-color: #434B5C;\n",
              "      --hover-fill-color: #FFFFFF;\n",
              "      --disabled-bg-color: #3B4455;\n",
              "      --disabled-fill-color: #666;\n",
              "  }\n",
              "\n",
              "  .colab-df-quickchart {\n",
              "    background-color: var(--bg-color);\n",
              "    border: none;\n",
              "    border-radius: 50%;\n",
              "    cursor: pointer;\n",
              "    display: none;\n",
              "    fill: var(--fill-color);\n",
              "    height: 32px;\n",
              "    padding: 0;\n",
              "    width: 32px;\n",
              "  }\n",
              "\n",
              "  .colab-df-quickchart:hover {\n",
              "    background-color: var(--hover-bg-color);\n",
              "    box-shadow: 0 1px 2px rgba(60, 64, 67, 0.3), 0 1px 3px 1px rgba(60, 64, 67, 0.15);\n",
              "    fill: var(--button-hover-fill-color);\n",
              "  }\n",
              "\n",
              "  .colab-df-quickchart-complete:disabled,\n",
              "  .colab-df-quickchart-complete:disabled:hover {\n",
              "    background-color: var(--disabled-bg-color);\n",
              "    fill: var(--disabled-fill-color);\n",
              "    box-shadow: none;\n",
              "  }\n",
              "\n",
              "  .colab-df-spinner {\n",
              "    border: 2px solid var(--fill-color);\n",
              "    border-color: transparent;\n",
              "    border-bottom-color: var(--fill-color);\n",
              "    animation:\n",
              "      spin 1s steps(1) infinite;\n",
              "  }\n",
              "\n",
              "  @keyframes spin {\n",
              "    0% {\n",
              "      border-color: transparent;\n",
              "      border-bottom-color: var(--fill-color);\n",
              "      border-left-color: var(--fill-color);\n",
              "    }\n",
              "    20% {\n",
              "      border-color: transparent;\n",
              "      border-left-color: var(--fill-color);\n",
              "      border-top-color: var(--fill-color);\n",
              "    }\n",
              "    30% {\n",
              "      border-color: transparent;\n",
              "      border-left-color: var(--fill-color);\n",
              "      border-top-color: var(--fill-color);\n",
              "      border-right-color: var(--fill-color);\n",
              "    }\n",
              "    40% {\n",
              "      border-color: transparent;\n",
              "      border-right-color: var(--fill-color);\n",
              "      border-top-color: var(--fill-color);\n",
              "    }\n",
              "    60% {\n",
              "      border-color: transparent;\n",
              "      border-right-color: var(--fill-color);\n",
              "    }\n",
              "    80% {\n",
              "      border-color: transparent;\n",
              "      border-right-color: var(--fill-color);\n",
              "      border-bottom-color: var(--fill-color);\n",
              "    }\n",
              "    90% {\n",
              "      border-color: transparent;\n",
              "      border-bottom-color: var(--fill-color);\n",
              "    }\n",
              "  }\n",
              "</style>\n",
              "\n",
              "  <script>\n",
              "    async function quickchart(key) {\n",
              "      const quickchartButtonEl =\n",
              "        document.querySelector('#' + key + ' button');\n",
              "      quickchartButtonEl.disabled = true;  // To prevent multiple clicks.\n",
              "      quickchartButtonEl.classList.add('colab-df-spinner');\n",
              "      try {\n",
              "        const charts = await google.colab.kernel.invokeFunction(\n",
              "            'suggestCharts', [key], {});\n",
              "      } catch (error) {\n",
              "        console.error('Error during call to suggestCharts:', error);\n",
              "      }\n",
              "      quickchartButtonEl.classList.remove('colab-df-spinner');\n",
              "      quickchartButtonEl.classList.add('colab-df-quickchart-complete');\n",
              "    }\n",
              "    (() => {\n",
              "      let quickchartButtonEl =\n",
              "        document.querySelector('#df-bac866bd-9c1e-477d-a7ed-5587b8818b08 button');\n",
              "      quickchartButtonEl.style.display =\n",
              "        google.colab.kernel.accessAllowed ? 'block' : 'none';\n",
              "    })();\n",
              "  </script>\n",
              "</div>\n",
              "\n",
              "    </div>\n",
              "  </div>\n"
            ],
            "application/vnd.google.colaboratory.intrinsic+json": {
              "type": "dataframe"
            }
          },
          "metadata": {},
          "execution_count": 173
        }
      ]
    },
    {
      "cell_type": "code",
      "source": [
        "# Print out column and details\n",
        "for col in df_clean.describe(include='object').columns:\n",
        "    print('Column Name: ',col)\n",
        "    print(df_clean[col].unique())\n",
        "    print('-------------------------------------------------')"
      ],
      "metadata": {
        "colab": {
          "base_uri": "https://localhost:8080/"
        },
        "id": "7gOnhXDLWld3",
        "outputId": "badab653-dfbc-40ff-99c4-d43f27faf563"
      },
      "execution_count": 164,
      "outputs": [
        {
          "output_type": "stream",
          "name": "stdout",
          "text": [
            "Column Name:  Sex\n",
            "['Female' 'Male']\n",
            "-------------------------------------------------\n",
            "Column Name:  GeneralHealth\n",
            "['Very good' 'Excellent' 'Fair' 'Poor' 'Good' nan]\n",
            "-------------------------------------------------\n",
            "Column Name:  PhysicalActivities\n",
            "['No' 'Yes' nan]\n",
            "-------------------------------------------------\n",
            "Column Name:  HadStroke\n",
            "['No' 'Yes' nan]\n",
            "-------------------------------------------------\n",
            "Column Name:  HadAsthma\n",
            "['No' 'Yes' nan]\n",
            "-------------------------------------------------\n",
            "Column Name:  HadSkinCancer\n",
            "['No' 'Yes' nan]\n",
            "-------------------------------------------------\n",
            "Column Name:  HadCOPD\n",
            "['No' 'Yes' nan]\n",
            "-------------------------------------------------\n",
            "Column Name:  HadDepressiveDisorder\n",
            "['No' 'Yes' nan]\n",
            "-------------------------------------------------\n",
            "Column Name:  HadKidneyDisease\n",
            "['No' 'Yes' nan]\n",
            "-------------------------------------------------\n",
            "Column Name:  HadArthritis\n",
            "['No' 'Yes' nan]\n",
            "-------------------------------------------------\n",
            "Column Name:  HadDiabetes\n",
            "['Yes' 'No' 'Borderline' nan 'During Pregnancy']\n",
            "-------------------------------------------------\n",
            "Column Name:  DeafOrHardOfHearing\n",
            "['No' nan 'Yes']\n",
            "-------------------------------------------------\n",
            "Column Name:  BlindOrVisionDifficulty\n",
            "['No' 'Yes' nan]\n",
            "-------------------------------------------------\n",
            "Column Name:  DifficultyConcentrating\n",
            "['No' nan 'Yes']\n",
            "-------------------------------------------------\n",
            "Column Name:  DifficultyWalking\n",
            "['No' 'Yes' nan]\n",
            "-------------------------------------------------\n",
            "Column Name:  DifficultyDressingBathing\n",
            "['No' nan 'Yes']\n",
            "-------------------------------------------------\n",
            "Column Name:  DifficultyErrands\n",
            "['No' 'Yes' nan]\n",
            "-------------------------------------------------\n",
            "Column Name:  SmokerStatus\n",
            "['Never' 'Somedays' 'Former' 'Everyday']\n",
            "-------------------------------------------------\n",
            "Column Name:  ECigaretteUsage\n",
            "['Not at all' 'Never' nan 'Everyday' 'Somedays']\n",
            "-------------------------------------------------\n",
            "Column Name:  RaceEthnicityCategory\n",
            "['White' 'Black' 'Others' 'Multi Racial' nan 'Hispanic']\n",
            "-------------------------------------------------\n",
            "Column Name:  AgeCategory\n",
            "['80+' '55-59' '65-69' '40-44' '75-79' '70-74' '60-64' '50-54' '45-49'\n",
            " '35-39' '30-34' '18-24' '25-29']\n",
            "-------------------------------------------------\n",
            "Column Name:  AlcoholDrinkers\n",
            "['No' 'Yes']\n",
            "-------------------------------------------------\n",
            "Column Name:  CovidPos\n",
            "['No' 'Yes']\n",
            "-------------------------------------------------\n"
          ]
        }
      ]
    },
    {
      "cell_type": "code",
      "source": [
        "# Edit details in some columns\n",
        "\n",
        "df_clean['HadDiabetes'].replace({'No, pre-diabetes or borderline diabetes' : 'Borderline',\n",
        "                            'Yes, but only during pregnancy (female)' : 'During Pregnancy'} , inplace=True)\n",
        "\n",
        "df_clean['SmokerStatus'].replace({'Never smoked' : 'Never',\n",
        "                                        'Current smoker - now smokes some days' : 'Somedays',\n",
        "                                        'Former smoker' : 'Former',\n",
        "                                        'Current smoker - now smokes every day' : 'Everyday'}, inplace=True)\n",
        "\n",
        "df_clean['ECigaretteUsage'].replace({'Not at all (right now)' : 'Not at all',\n",
        "                                        'Never used e-cigarettes in my entire life' : 'Never',\n",
        "                                        'Use them every day' : 'Everyday',\n",
        "                                        'Use them some days' : 'Somedays'}, inplace=True)\n",
        "\n",
        "df_clean['RaceEthnicityCategory'].replace({'White only, Non-Hispanic' : 'White',\n",
        "                                             'Black only, Non-Hispanic' : 'Black',\n",
        "                                             'Other race only, Non-Hispanic' : 'Others',\n",
        "                                             'Multiracial, Non-Hispanic' : 'Multi Racial'}, inplace=True)\n",
        "\n",
        "df_clean['AgeCategory'].replace({\n",
        "    'Age 80 or older' : '80+',\n",
        "    'Age 75 to 79' : '75-79',\n",
        "    'Age 70 to 74' : '70-74',\n",
        "    'Age 65 to 69' : '65-69',\n",
        "    'Age 60 to 64' : '60-64',\n",
        "    'Age 55 to 59' : '55-59',\n",
        "    'Age 50 to 54' : '50-54',\n",
        "    'Age 45 to 49' : '45-49',\n",
        "    'Age 40 to 44' : '40-44',\n",
        "    'Age 35 to 39' : '35-39',\n",
        "    'Age 30 to 34' : '30-34',\n",
        "    'Age 25 to 29' : '25-29',\n",
        "    'Age 18 to 24' : '18-24',}, inplace=True)\n",
        "\n",
        "df_clean['CovidPos'].replace({'Tested positive using home test without a health professional' : 'Yes'}, inplace=True)\n",
        "\n",
        "for col in df_clean.describe(include='object').columns:\n",
        "    print('Column Name: ',col)\n",
        "    print(df_clean[col].unique())\n",
        "    print('-------------------------------------------------')"
      ],
      "metadata": {
        "colab": {
          "base_uri": "https://localhost:8080/"
        },
        "id": "8JMSPtLmXwdi",
        "outputId": "6aff4a74-b560-47f9-8ac9-ad8c315591cd"
      },
      "execution_count": 139,
      "outputs": [
        {
          "output_type": "stream",
          "name": "stdout",
          "text": [
            "Column Name:  Sex\n",
            "['Female' 'Male']\n",
            "-------------------------------------------------\n",
            "Column Name:  GeneralHealth\n",
            "['Very good' 'Excellent' 'Fair' 'Poor' 'Good' nan]\n",
            "-------------------------------------------------\n",
            "Column Name:  PhysicalActivities\n",
            "['No' 'Yes' nan]\n",
            "-------------------------------------------------\n",
            "Column Name:  HadStroke\n",
            "['No' 'Yes' nan]\n",
            "-------------------------------------------------\n",
            "Column Name:  HadAsthma\n",
            "['No' 'Yes' nan]\n",
            "-------------------------------------------------\n",
            "Column Name:  HadSkinCancer\n",
            "['No' 'Yes' nan]\n",
            "-------------------------------------------------\n",
            "Column Name:  HadCOPD\n",
            "['No' 'Yes' nan]\n",
            "-------------------------------------------------\n",
            "Column Name:  HadDepressiveDisorder\n",
            "['No' 'Yes' nan]\n",
            "-------------------------------------------------\n",
            "Column Name:  HadKidneyDisease\n",
            "['No' 'Yes' nan]\n",
            "-------------------------------------------------\n",
            "Column Name:  HadArthritis\n",
            "['No' 'Yes' nan]\n",
            "-------------------------------------------------\n",
            "Column Name:  HadDiabetes\n",
            "['Yes' 'No' 'Borderline' nan 'During Pregnancy']\n",
            "-------------------------------------------------\n",
            "Column Name:  DeafOrHardOfHearing\n",
            "['No' nan 'Yes']\n",
            "-------------------------------------------------\n",
            "Column Name:  BlindOrVisionDifficulty\n",
            "['No' 'Yes' nan]\n",
            "-------------------------------------------------\n",
            "Column Name:  DifficultyConcentrating\n",
            "['No' nan 'Yes']\n",
            "-------------------------------------------------\n",
            "Column Name:  DifficultyWalking\n",
            "['No' 'Yes' nan]\n",
            "-------------------------------------------------\n",
            "Column Name:  DifficultyDressingBathing\n",
            "['No' nan 'Yes']\n",
            "-------------------------------------------------\n",
            "Column Name:  DifficultyErrands\n",
            "['No' 'Yes' nan]\n",
            "-------------------------------------------------\n",
            "Column Name:  SmokerStatus\n",
            "['Never' 'Somedays' 'Former' nan 'Everyday']\n",
            "-------------------------------------------------\n",
            "Column Name:  ECigaretteUsage\n",
            "['Not at all' 'Never' nan 'Everyday' 'Somedays']\n",
            "-------------------------------------------------\n",
            "Column Name:  RaceEthnicityCategory\n",
            "['White' 'Black' 'Others' 'Multi Racial' nan 'Hispanic']\n",
            "-------------------------------------------------\n",
            "Column Name:  AgeCategory\n",
            "['80+' '55-59' nan '40-44' '75-79' '70-74' '65-69' '60-64' '50-54' '45-49'\n",
            " '35-39' '25-29' '30-34' '18-24']\n",
            "-------------------------------------------------\n",
            "Column Name:  AlcoholDrinkers\n",
            "['No' 'Yes' nan]\n",
            "-------------------------------------------------\n",
            "Column Name:  CovidPos\n",
            "['No' 'Yes' nan]\n",
            "-------------------------------------------------\n"
          ]
        }
      ]
    },
    {
      "cell_type": "code",
      "source": [
        "df_clean.describe(include='object')"
      ],
      "metadata": {
        "colab": {
          "base_uri": "https://localhost:8080/",
          "height": 224
        },
        "id": "d6McuwbxYecc",
        "outputId": "c7839b43-4322-4f9e-87c4-eb08931669f8"
      },
      "execution_count": 140,
      "outputs": [
        {
          "output_type": "execute_result",
          "data": {
            "text/plain": [
              "           Sex GeneralHealth PhysicalActivities HadStroke HadAsthma  \\\n",
              "count   445132        443934             444039    443575    443359   \n",
              "unique       2             5                  2         2         2   \n",
              "top     Female     Very good                Yes        No        No   \n",
              "freq    235893        148444             337559    424336    376665   \n",
              "\n",
              "       HadSkinCancer HadCOPD HadDepressiveDisorder HadKidneyDisease  \\\n",
              "count         441989  442913                442320           443206   \n",
              "unique             2       2                     2                2   \n",
              "top               No      No                    No               No   \n",
              "freq          406504  407257                350910           422891   \n",
              "\n",
              "       HadArthritis  ... DifficultyConcentrating DifficultyWalking  \\\n",
              "count        442499  ...                  420892            421120   \n",
              "unique            2  ...                       2                 2   \n",
              "top              No  ...                      No                No   \n",
              "freq         291351  ...                  370792            353039   \n",
              "\n",
              "       DifficultyDressingBathing DifficultyErrands SmokerStatus  \\\n",
              "count                     421217            419476       409670   \n",
              "unique                         2                 2            4   \n",
              "top                           No                No        Never   \n",
              "freq                      404404            387029       245955   \n",
              "\n",
              "       ECigaretteUsage RaceEthnicityCategory AgeCategory AlcoholDrinkers  \\\n",
              "count           409472                431075      436053          398558   \n",
              "unique               4                     5          13               2   \n",
              "top              Never                 White       65-69             Yes   \n",
              "freq            311988                320421       47099          210891   \n",
              "\n",
              "       CovidPos  \n",
              "count    394368  \n",
              "unique        2  \n",
              "top          No  \n",
              "freq     270055  \n",
              "\n",
              "[4 rows x 23 columns]"
            ],
            "text/html": [
              "\n",
              "  <div id=\"df-79a99a39-61b3-4716-9052-f48d8ed4f5db\" class=\"colab-df-container\">\n",
              "    <div>\n",
              "<style scoped>\n",
              "    .dataframe tbody tr th:only-of-type {\n",
              "        vertical-align: middle;\n",
              "    }\n",
              "\n",
              "    .dataframe tbody tr th {\n",
              "        vertical-align: top;\n",
              "    }\n",
              "\n",
              "    .dataframe thead th {\n",
              "        text-align: right;\n",
              "    }\n",
              "</style>\n",
              "<table border=\"1\" class=\"dataframe\">\n",
              "  <thead>\n",
              "    <tr style=\"text-align: right;\">\n",
              "      <th></th>\n",
              "      <th>Sex</th>\n",
              "      <th>GeneralHealth</th>\n",
              "      <th>PhysicalActivities</th>\n",
              "      <th>HadStroke</th>\n",
              "      <th>HadAsthma</th>\n",
              "      <th>HadSkinCancer</th>\n",
              "      <th>HadCOPD</th>\n",
              "      <th>HadDepressiveDisorder</th>\n",
              "      <th>HadKidneyDisease</th>\n",
              "      <th>HadArthritis</th>\n",
              "      <th>...</th>\n",
              "      <th>DifficultyConcentrating</th>\n",
              "      <th>DifficultyWalking</th>\n",
              "      <th>DifficultyDressingBathing</th>\n",
              "      <th>DifficultyErrands</th>\n",
              "      <th>SmokerStatus</th>\n",
              "      <th>ECigaretteUsage</th>\n",
              "      <th>RaceEthnicityCategory</th>\n",
              "      <th>AgeCategory</th>\n",
              "      <th>AlcoholDrinkers</th>\n",
              "      <th>CovidPos</th>\n",
              "    </tr>\n",
              "  </thead>\n",
              "  <tbody>\n",
              "    <tr>\n",
              "      <th>count</th>\n",
              "      <td>445132</td>\n",
              "      <td>443934</td>\n",
              "      <td>444039</td>\n",
              "      <td>443575</td>\n",
              "      <td>443359</td>\n",
              "      <td>441989</td>\n",
              "      <td>442913</td>\n",
              "      <td>442320</td>\n",
              "      <td>443206</td>\n",
              "      <td>442499</td>\n",
              "      <td>...</td>\n",
              "      <td>420892</td>\n",
              "      <td>421120</td>\n",
              "      <td>421217</td>\n",
              "      <td>419476</td>\n",
              "      <td>409670</td>\n",
              "      <td>409472</td>\n",
              "      <td>431075</td>\n",
              "      <td>436053</td>\n",
              "      <td>398558</td>\n",
              "      <td>394368</td>\n",
              "    </tr>\n",
              "    <tr>\n",
              "      <th>unique</th>\n",
              "      <td>2</td>\n",
              "      <td>5</td>\n",
              "      <td>2</td>\n",
              "      <td>2</td>\n",
              "      <td>2</td>\n",
              "      <td>2</td>\n",
              "      <td>2</td>\n",
              "      <td>2</td>\n",
              "      <td>2</td>\n",
              "      <td>2</td>\n",
              "      <td>...</td>\n",
              "      <td>2</td>\n",
              "      <td>2</td>\n",
              "      <td>2</td>\n",
              "      <td>2</td>\n",
              "      <td>4</td>\n",
              "      <td>4</td>\n",
              "      <td>5</td>\n",
              "      <td>13</td>\n",
              "      <td>2</td>\n",
              "      <td>2</td>\n",
              "    </tr>\n",
              "    <tr>\n",
              "      <th>top</th>\n",
              "      <td>Female</td>\n",
              "      <td>Very good</td>\n",
              "      <td>Yes</td>\n",
              "      <td>No</td>\n",
              "      <td>No</td>\n",
              "      <td>No</td>\n",
              "      <td>No</td>\n",
              "      <td>No</td>\n",
              "      <td>No</td>\n",
              "      <td>No</td>\n",
              "      <td>...</td>\n",
              "      <td>No</td>\n",
              "      <td>No</td>\n",
              "      <td>No</td>\n",
              "      <td>No</td>\n",
              "      <td>Never</td>\n",
              "      <td>Never</td>\n",
              "      <td>White</td>\n",
              "      <td>65-69</td>\n",
              "      <td>Yes</td>\n",
              "      <td>No</td>\n",
              "    </tr>\n",
              "    <tr>\n",
              "      <th>freq</th>\n",
              "      <td>235893</td>\n",
              "      <td>148444</td>\n",
              "      <td>337559</td>\n",
              "      <td>424336</td>\n",
              "      <td>376665</td>\n",
              "      <td>406504</td>\n",
              "      <td>407257</td>\n",
              "      <td>350910</td>\n",
              "      <td>422891</td>\n",
              "      <td>291351</td>\n",
              "      <td>...</td>\n",
              "      <td>370792</td>\n",
              "      <td>353039</td>\n",
              "      <td>404404</td>\n",
              "      <td>387029</td>\n",
              "      <td>245955</td>\n",
              "      <td>311988</td>\n",
              "      <td>320421</td>\n",
              "      <td>47099</td>\n",
              "      <td>210891</td>\n",
              "      <td>270055</td>\n",
              "    </tr>\n",
              "  </tbody>\n",
              "</table>\n",
              "<p>4 rows × 23 columns</p>\n",
              "</div>\n",
              "    <div class=\"colab-df-buttons\">\n",
              "\n",
              "  <div class=\"colab-df-container\">\n",
              "    <button class=\"colab-df-convert\" onclick=\"convertToInteractive('df-79a99a39-61b3-4716-9052-f48d8ed4f5db')\"\n",
              "            title=\"Convert this dataframe to an interactive table.\"\n",
              "            style=\"display:none;\">\n",
              "\n",
              "  <svg xmlns=\"http://www.w3.org/2000/svg\" height=\"24px\" viewBox=\"0 -960 960 960\">\n",
              "    <path d=\"M120-120v-720h720v720H120Zm60-500h600v-160H180v160Zm220 220h160v-160H400v160Zm0 220h160v-160H400v160ZM180-400h160v-160H180v160Zm440 0h160v-160H620v160ZM180-180h160v-160H180v160Zm440 0h160v-160H620v160Z\"/>\n",
              "  </svg>\n",
              "    </button>\n",
              "\n",
              "  <style>\n",
              "    .colab-df-container {\n",
              "      display:flex;\n",
              "      gap: 12px;\n",
              "    }\n",
              "\n",
              "    .colab-df-convert {\n",
              "      background-color: #E8F0FE;\n",
              "      border: none;\n",
              "      border-radius: 50%;\n",
              "      cursor: pointer;\n",
              "      display: none;\n",
              "      fill: #1967D2;\n",
              "      height: 32px;\n",
              "      padding: 0 0 0 0;\n",
              "      width: 32px;\n",
              "    }\n",
              "\n",
              "    .colab-df-convert:hover {\n",
              "      background-color: #E2EBFA;\n",
              "      box-shadow: 0px 1px 2px rgba(60, 64, 67, 0.3), 0px 1px 3px 1px rgba(60, 64, 67, 0.15);\n",
              "      fill: #174EA6;\n",
              "    }\n",
              "\n",
              "    .colab-df-buttons div {\n",
              "      margin-bottom: 4px;\n",
              "    }\n",
              "\n",
              "    [theme=dark] .colab-df-convert {\n",
              "      background-color: #3B4455;\n",
              "      fill: #D2E3FC;\n",
              "    }\n",
              "\n",
              "    [theme=dark] .colab-df-convert:hover {\n",
              "      background-color: #434B5C;\n",
              "      box-shadow: 0px 1px 3px 1px rgba(0, 0, 0, 0.15);\n",
              "      filter: drop-shadow(0px 1px 2px rgba(0, 0, 0, 0.3));\n",
              "      fill: #FFFFFF;\n",
              "    }\n",
              "  </style>\n",
              "\n",
              "    <script>\n",
              "      const buttonEl =\n",
              "        document.querySelector('#df-79a99a39-61b3-4716-9052-f48d8ed4f5db button.colab-df-convert');\n",
              "      buttonEl.style.display =\n",
              "        google.colab.kernel.accessAllowed ? 'block' : 'none';\n",
              "\n",
              "      async function convertToInteractive(key) {\n",
              "        const element = document.querySelector('#df-79a99a39-61b3-4716-9052-f48d8ed4f5db');\n",
              "        const dataTable =\n",
              "          await google.colab.kernel.invokeFunction('convertToInteractive',\n",
              "                                                    [key], {});\n",
              "        if (!dataTable) return;\n",
              "\n",
              "        const docLinkHtml = 'Like what you see? Visit the ' +\n",
              "          '<a target=\"_blank\" href=https://colab.research.google.com/notebooks/data_table.ipynb>data table notebook</a>'\n",
              "          + ' to learn more about interactive tables.';\n",
              "        element.innerHTML = '';\n",
              "        dataTable['output_type'] = 'display_data';\n",
              "        await google.colab.output.renderOutput(dataTable, element);\n",
              "        const docLink = document.createElement('div');\n",
              "        docLink.innerHTML = docLinkHtml;\n",
              "        element.appendChild(docLink);\n",
              "      }\n",
              "    </script>\n",
              "  </div>\n",
              "\n",
              "\n",
              "<div id=\"df-493175f3-0cc1-48cb-bc7d-f86438219447\">\n",
              "  <button class=\"colab-df-quickchart\" onclick=\"quickchart('df-493175f3-0cc1-48cb-bc7d-f86438219447')\"\n",
              "            title=\"Suggest charts\"\n",
              "            style=\"display:none;\">\n",
              "\n",
              "<svg xmlns=\"http://www.w3.org/2000/svg\" height=\"24px\"viewBox=\"0 0 24 24\"\n",
              "     width=\"24px\">\n",
              "    <g>\n",
              "        <path d=\"M19 3H5c-1.1 0-2 .9-2 2v14c0 1.1.9 2 2 2h14c1.1 0 2-.9 2-2V5c0-1.1-.9-2-2-2zM9 17H7v-7h2v7zm4 0h-2V7h2v10zm4 0h-2v-4h2v4z\"/>\n",
              "    </g>\n",
              "</svg>\n",
              "  </button>\n",
              "\n",
              "<style>\n",
              "  .colab-df-quickchart {\n",
              "      --bg-color: #E8F0FE;\n",
              "      --fill-color: #1967D2;\n",
              "      --hover-bg-color: #E2EBFA;\n",
              "      --hover-fill-color: #174EA6;\n",
              "      --disabled-fill-color: #AAA;\n",
              "      --disabled-bg-color: #DDD;\n",
              "  }\n",
              "\n",
              "  [theme=dark] .colab-df-quickchart {\n",
              "      --bg-color: #3B4455;\n",
              "      --fill-color: #D2E3FC;\n",
              "      --hover-bg-color: #434B5C;\n",
              "      --hover-fill-color: #FFFFFF;\n",
              "      --disabled-bg-color: #3B4455;\n",
              "      --disabled-fill-color: #666;\n",
              "  }\n",
              "\n",
              "  .colab-df-quickchart {\n",
              "    background-color: var(--bg-color);\n",
              "    border: none;\n",
              "    border-radius: 50%;\n",
              "    cursor: pointer;\n",
              "    display: none;\n",
              "    fill: var(--fill-color);\n",
              "    height: 32px;\n",
              "    padding: 0;\n",
              "    width: 32px;\n",
              "  }\n",
              "\n",
              "  .colab-df-quickchart:hover {\n",
              "    background-color: var(--hover-bg-color);\n",
              "    box-shadow: 0 1px 2px rgba(60, 64, 67, 0.3), 0 1px 3px 1px rgba(60, 64, 67, 0.15);\n",
              "    fill: var(--button-hover-fill-color);\n",
              "  }\n",
              "\n",
              "  .colab-df-quickchart-complete:disabled,\n",
              "  .colab-df-quickchart-complete:disabled:hover {\n",
              "    background-color: var(--disabled-bg-color);\n",
              "    fill: var(--disabled-fill-color);\n",
              "    box-shadow: none;\n",
              "  }\n",
              "\n",
              "  .colab-df-spinner {\n",
              "    border: 2px solid var(--fill-color);\n",
              "    border-color: transparent;\n",
              "    border-bottom-color: var(--fill-color);\n",
              "    animation:\n",
              "      spin 1s steps(1) infinite;\n",
              "  }\n",
              "\n",
              "  @keyframes spin {\n",
              "    0% {\n",
              "      border-color: transparent;\n",
              "      border-bottom-color: var(--fill-color);\n",
              "      border-left-color: var(--fill-color);\n",
              "    }\n",
              "    20% {\n",
              "      border-color: transparent;\n",
              "      border-left-color: var(--fill-color);\n",
              "      border-top-color: var(--fill-color);\n",
              "    }\n",
              "    30% {\n",
              "      border-color: transparent;\n",
              "      border-left-color: var(--fill-color);\n",
              "      border-top-color: var(--fill-color);\n",
              "      border-right-color: var(--fill-color);\n",
              "    }\n",
              "    40% {\n",
              "      border-color: transparent;\n",
              "      border-right-color: var(--fill-color);\n",
              "      border-top-color: var(--fill-color);\n",
              "    }\n",
              "    60% {\n",
              "      border-color: transparent;\n",
              "      border-right-color: var(--fill-color);\n",
              "    }\n",
              "    80% {\n",
              "      border-color: transparent;\n",
              "      border-right-color: var(--fill-color);\n",
              "      border-bottom-color: var(--fill-color);\n",
              "    }\n",
              "    90% {\n",
              "      border-color: transparent;\n",
              "      border-bottom-color: var(--fill-color);\n",
              "    }\n",
              "  }\n",
              "</style>\n",
              "\n",
              "  <script>\n",
              "    async function quickchart(key) {\n",
              "      const quickchartButtonEl =\n",
              "        document.querySelector('#' + key + ' button');\n",
              "      quickchartButtonEl.disabled = true;  // To prevent multiple clicks.\n",
              "      quickchartButtonEl.classList.add('colab-df-spinner');\n",
              "      try {\n",
              "        const charts = await google.colab.kernel.invokeFunction(\n",
              "            'suggestCharts', [key], {});\n",
              "      } catch (error) {\n",
              "        console.error('Error during call to suggestCharts:', error);\n",
              "      }\n",
              "      quickchartButtonEl.classList.remove('colab-df-spinner');\n",
              "      quickchartButtonEl.classList.add('colab-df-quickchart-complete');\n",
              "    }\n",
              "    (() => {\n",
              "      let quickchartButtonEl =\n",
              "        document.querySelector('#df-493175f3-0cc1-48cb-bc7d-f86438219447 button');\n",
              "      quickchartButtonEl.style.display =\n",
              "        google.colab.kernel.accessAllowed ? 'block' : 'none';\n",
              "    })();\n",
              "  </script>\n",
              "</div>\n",
              "\n",
              "    </div>\n",
              "  </div>\n"
            ],
            "application/vnd.google.colaboratory.intrinsic+json": {
              "type": "dataframe"
            }
          },
          "metadata": {},
          "execution_count": 140
        }
      ]
    },
    {
      "cell_type": "code",
      "source": [
        "# drop duplicate rows\n",
        "df_clean[df_clean.duplicated()]\n",
        "df_clean.drop_duplicates(inplace=True)"
      ],
      "metadata": {
        "id": "EQcnUe0SoheX"
      },
      "execution_count": 141,
      "outputs": []
    },
    {
      "cell_type": "markdown",
      "source": [
        "**DISTRIBUTION CHECKING**"
      ],
      "metadata": {
        "id": "Ru59l03vswOQ"
      }
    },
    {
      "cell_type": "code",
      "source": [
        "# define random impute\n",
        "def random_impute(series):\n",
        "\n",
        "    non_missing = series.dropna() # Filter out the non-missing values\n",
        "\n",
        "    imputed = series.apply(lambda x: np.random.choice(non_missing) if pd.isnull(x) else x) # Impute missing values\n",
        "    return imputed"
      ],
      "metadata": {
        "id": "VaV2hFPqDNgc"
      },
      "execution_count": 142,
      "outputs": []
    },
    {
      "cell_type": "code",
      "source": [
        "# AgeCategory\n",
        "df_clean['AgeCategory'].value_counts().plot(kind='bar')\n",
        "plt.xlabel(\"Age Category\", fontsize=10)\n",
        "plt.ylabel(\"Individuals\", fontsize=10)"
      ],
      "metadata": {
        "colab": {
          "base_uri": "https://localhost:8080/",
          "height": 494
        },
        "id": "1Da-O2_vxb7F",
        "outputId": "d9e2b3bf-cf49-4bf0-d155-c3bf4feaf600"
      },
      "execution_count": 143,
      "outputs": [
        {
          "output_type": "execute_result",
          "data": {
            "text/plain": [
              "Text(0, 0.5, 'Individuals')"
            ]
          },
          "metadata": {},
          "execution_count": 143
        },
        {
          "output_type": "display_data",
          "data": {
            "text/plain": [
              "<Figure size 640x480 with 1 Axes>"
            ],
            "image/png": "[encoded data removed]"
          },
          "metadata": {}
        }
      ]
    },
    {
      "cell_type": "code",
      "source": [
        "# Input random values and check for nulls\n",
        "df_clean['AgeCategory'] = random_impute(df_clean['AgeCategory'])\n",
        "df_clean['AgeCategory'].isnull().sum()"
      ],
      "metadata": {
        "colab": {
          "base_uri": "https://localhost:8080/"
        },
        "id": "jOgBkxji113V",
        "outputId": "84fe4347-dc4b-41f3-cc01-d6d76e162f0d"
      },
      "execution_count": 144,
      "outputs": [
        {
          "output_type": "execute_result",
          "data": {
            "text/plain": [
              "0"
            ]
          },
          "metadata": {},
          "execution_count": 144
        }
      ]
    },
    {
      "cell_type": "code",
      "source": [
        "# AlcoholDrinkers\n",
        "df_clean['AlcoholDrinkers'].value_counts().plot(kind='bar')\n",
        "plt.xlabel(\"Alcohol Drinkers\", fontsize=10)\n",
        "plt.ylabel(\"Individuals\", fontsize=10)"
      ],
      "metadata": {
        "colab": {
          "base_uri": "https://localhost:8080/",
          "height": 476
        },
        "id": "df8N7GML2eqm",
        "outputId": "f78dfc8c-769f-4208-8a4b-29b46071ac77"
      },
      "execution_count": 145,
      "outputs": [
        {
          "output_type": "execute_result",
          "data": {
            "text/plain": [
              "Text(0, 0.5, 'Individuals')"
            ]
          },
          "metadata": {},
          "execution_count": 145
        },
        {
          "output_type": "display_data",
          "data": {
            "text/plain": [
              "<Figure size 640x480 with 1 Axes>"
            ],
            "image/png": "[encoded data removed]"
          },
          "metadata": {}
        }
      ]
    },
    {
      "cell_type": "code",
      "source": [
        "df_clean['AlcoholDrinkers'] = random_impute(df_clean['AlcoholDrinkers'])\n",
        "df_clean['AlcoholDrinkers'].isnull().sum()"
      ],
      "metadata": {
        "colab": {
          "base_uri": "https://localhost:8080/"
        },
        "id": "kD7X74Jc3I9N",
        "outputId": "c7703f63-d32c-4349-bb4b-5f1388abc8fb"
      },
      "execution_count": 146,
      "outputs": [
        {
          "output_type": "execute_result",
          "data": {
            "text/plain": [
              "0"
            ]
          },
          "metadata": {},
          "execution_count": 146
        }
      ]
    },
    {
      "cell_type": "code",
      "source": [
        "# SleepHours\n",
        "df_clean['SleepHours'].value_counts().plot(kind='bar')\n",
        "plt.xlabel(\"Sleep Hours\", fontsize=10)\n",
        "plt.ylabel(\"Individuals\", fontsize=10)"
      ],
      "metadata": {
        "colab": {
          "base_uri": "https://localhost:8080/",
          "height": 484
        },
        "id": "YT2QJVDi3Qwj",
        "outputId": "54cd5050-3f6c-46f1-de05-135d4d18fafc"
      },
      "execution_count": 147,
      "outputs": [
        {
          "output_type": "execute_result",
          "data": {
            "text/plain": [
              "Text(0, 0.5, 'Individuals')"
            ]
          },
          "metadata": {},
          "execution_count": 147
        },
        {
          "output_type": "display_data",
          "data": {
            "text/plain": [
              "<Figure size 640x480 with 1 Axes>"
            ],
            "image/png": "[encoded data removed]"
          },
          "metadata": {}
        }
      ]
    },
    {
      "cell_type": "code",
      "source": [
        "df_clean['SleepHours'] = random_impute(df_clean['SleepHours'])\n",
        "df_clean['SleepHours'].isnull().sum()"
      ],
      "metadata": {
        "colab": {
          "base_uri": "https://localhost:8080/"
        },
        "id": "0jlhheaL3Qt9",
        "outputId": "27bf6a1e-c5b2-4d25-aba6-44a8b47ead47"
      },
      "execution_count": 148,
      "outputs": [
        {
          "output_type": "execute_result",
          "data": {
            "text/plain": [
              "0"
            ]
          },
          "metadata": {},
          "execution_count": 148
        }
      ]
    },
    {
      "cell_type": "markdown",
      "source": [
        "**MODE IMPUTATION**"
      ],
      "metadata": {
        "id": "UH2FPXYs_g7z"
      }
    },
    {
      "cell_type": "code",
      "source": [
        "# CovidPos\n",
        "df_clean['CovidPos'].value_counts().plot(kind='bar')\n",
        "plt.xlabel(\"CovidPos\", fontsize=10)\n",
        "plt.ylabel(\"Individuals\", fontsize=10)"
      ],
      "metadata": {
        "colab": {
          "base_uri": "https://localhost:8080/",
          "height": 476
        },
        "id": "sxdNZvP23QrJ",
        "outputId": "ad7e9b38-8ac5-406a-8821-a365c00dcdde"
      },
      "execution_count": 149,
      "outputs": [
        {
          "output_type": "execute_result",
          "data": {
            "text/plain": [
              "Text(0, 0.5, 'Individuals')"
            ]
          },
          "metadata": {},
          "execution_count": 149
        },
        {
          "output_type": "display_data",
          "data": {
            "text/plain": [
              "<Figure size 640x480 with 1 Axes>"
            ],
            "image/png": "[encoded data removed]"
          },
          "metadata": {}
        }
      ]
    },
    {
      "cell_type": "code",
      "source": [
        "df_clean['CovidPos'].fillna(value=df_clean['CovidPos'].mode()[0], inplace=True)\n",
        "df_clean['CovidPos'].isnull().sum()"
      ],
      "metadata": {
        "colab": {
          "base_uri": "https://localhost:8080/"
        },
        "id": "esfog4Wa3Qhr",
        "outputId": "dd0c8134-0e44-45ca-9ab6-39bc52da06e8"
      },
      "execution_count": 150,
      "outputs": [
        {
          "output_type": "execute_result",
          "data": {
            "text/plain": [
              "0"
            ]
          },
          "metadata": {},
          "execution_count": 150
        }
      ]
    },
    {
      "cell_type": "code",
      "source": [
        "# SmokerStatus\n",
        "df_clean['SmokerStatus'].value_counts().plot(kind='bar')\n",
        "plt.xlabel(\"SmokerStatus\", fontsize=10)\n",
        "plt.ylabel(\"Individuals\", fontsize=10)"
      ],
      "metadata": {
        "colab": {
          "base_uri": "https://localhost:8080/",
          "height": 526
        },
        "id": "PXtMhnz13QSF",
        "outputId": "2352728c-922c-4125-cfd1-2d535cfb5d12"
      },
      "execution_count": 151,
      "outputs": [
        {
          "output_type": "execute_result",
          "data": {
            "text/plain": [
              "Text(0, 0.5, 'Individuals')"
            ]
          },
          "metadata": {},
          "execution_count": 151
        },
        {
          "output_type": "display_data",
          "data": {
            "text/plain": [
              "<Figure size 640x480 with 1 Axes>"
            ],
            "image/png": "[encoded data removed]"
          },
          "metadata": {}
        }
      ]
    },
    {
      "cell_type": "code",
      "source": [
        "df_clean['SmokerStatus'].fillna(value=df_clean['SmokerStatus'].mode()[0], inplace=True)\n",
        "df_clean['SmokerStatus'].isnull().sum()"
      ],
      "metadata": {
        "colab": {
          "base_uri": "https://localhost:8080/"
        },
        "id": "LkADTDgC-8rU",
        "outputId": "43f293c7-b43a-4402-d060-b5d27c5aad62"
      },
      "execution_count": 152,
      "outputs": [
        {
          "output_type": "execute_result",
          "data": {
            "text/plain": [
              "0"
            ]
          },
          "metadata": {},
          "execution_count": 152
        }
      ]
    },
    {
      "cell_type": "code",
      "source": [
        "# MentalHealthDays\n",
        "df_clean['MentalHealthDays'].value_counts().plot(kind='bar')\n",
        "plt.xlabel(\"MentalHealthDays\", fontsize=10)\n",
        "plt.ylabel(\"Individuals\", fontsize=10)"
      ],
      "metadata": {
        "colab": {
          "base_uri": "https://localhost:8080/",
          "height": 484
        },
        "id": "gLfp4KG-_BoT",
        "outputId": "b46a90c2-d9c2-44c1-acf2-703c34be8980"
      },
      "execution_count": 153,
      "outputs": [
        {
          "output_type": "execute_result",
          "data": {
            "text/plain": [
              "Text(0, 0.5, 'Individuals')"
            ]
          },
          "metadata": {},
          "execution_count": 153
        },
        {
          "output_type": "display_data",
          "data": {
            "text/plain": [
              "<Figure size 640x480 with 1 Axes>"
            ],
            "image/png": "[encoded data removed]"
          },
          "metadata": {}
        }
      ]
    },
    {
      "cell_type": "code",
      "source": [
        "df_clean['MentalHealthDays'].fillna(value=df_clean['MentalHealthDays'].mode()[0], inplace=True)\n",
        "df_clean['MentalHealthDays'].isnull().sum()"
      ],
      "metadata": {
        "colab": {
          "base_uri": "https://localhost:8080/"
        },
        "id": "qu6dMano_liZ",
        "outputId": "1398b7bb-ef87-4307-f87d-7e8936e5617a"
      },
      "execution_count": 154,
      "outputs": [
        {
          "output_type": "execute_result",
          "data": {
            "text/plain": [
              "0"
            ]
          },
          "metadata": {},
          "execution_count": 154
        }
      ]
    },
    {
      "cell_type": "code",
      "source": [
        "# RaceEthnicityCategory\n",
        "df_clean['RaceEthnicityCategory'].value_counts().plot(kind='bar')\n",
        "plt.xlabel(\"Race & Ethnicity\", fontsize=10)\n",
        "plt.ylabel(\"Individuals\", fontsize=10)"
      ],
      "metadata": {
        "colab": {
          "base_uri": "https://localhost:8080/",
          "height": 534
        },
        "id": "cwKtLSkf_xUS",
        "outputId": "bf51f125-7692-4560-d32b-8fb64bf6af01"
      },
      "execution_count": 155,
      "outputs": [
        {
          "output_type": "execute_result",
          "data": {
            "text/plain": [
              "Text(0, 0.5, 'Individuals')"
            ]
          },
          "metadata": {},
          "execution_count": 155
        },
        {
          "output_type": "display_data",
          "data": {
            "text/plain": [
              "<Figure size 640x480 with 1 Axes>"
            ],
            "image/png": "[encoded data removed]"
          },
          "metadata": {}
        }
      ]
    },
    {
      "cell_type": "code",
      "source": [
        "df_clean['RaceEthnicityCategory'].fillna(value=df_clean['RaceEthnicityCategory'].mode()[0], inplace=True)\n",
        "df_clean['RaceEthnicityCategory'].isnull().sum()"
      ],
      "metadata": {
        "colab": {
          "base_uri": "https://localhost:8080/"
        },
        "id": "5Gc2daDfAPRT",
        "outputId": "bd960b61-891b-4618-b7c3-b18801ab8c12"
      },
      "execution_count": 27,
      "outputs": [
        {
          "output_type": "execute_result",
          "data": {
            "text/plain": [
              "0"
            ]
          },
          "metadata": {},
          "execution_count": 27
        }
      ]
    },
    {
      "cell_type": "markdown",
      "source": [
        "**CONTINUOUS COLUMS IMPUTATION**"
      ],
      "metadata": {
        "id": "G0tJCZY1A78n"
      }
    },
    {
      "cell_type": "code",
      "source": [
        "# HeightInMeters\n",
        "\n",
        "plt.hist(df_clean['HeightInMeters'].dropna(), bins=30, density=True, alpha=0.6, color='blue')\n",
        "\n",
        "# Fit a normal distribution to the data and calculate mean and standard deviation\n",
        "mean, std = norm.fit(df_clean['HeightInMeters'].dropna())\n",
        "\n",
        "# Plot the normal curve\n",
        "xmin, xmax = plt.xlim()\n",
        "x = np.linspace(xmin, xmax, 100)\n",
        "p = norm.pdf(x, mean, std)\n",
        "\n",
        "plt.plot(x, p, 'black', linewidth=2)\n",
        "plt.xlabel(\"Height (m)\", fontsize=10)\n",
        "plt.ylabel(\"Individuals\", fontsize=10)\n",
        "\n",
        "plt.show()"
      ],
      "metadata": {
        "colab": {
          "base_uri": "https://localhost:8080/",
          "height": 449
        },
        "id": "osmLOMf_AaY7",
        "outputId": "d29f4711-d48e-4501-c34f-3a0d67e81cc3"
      },
      "execution_count": 28,
      "outputs": [
        {
          "output_type": "display_data",
          "data": {
            "text/plain": [
              "<Figure size 640x480 with 1 Axes>"
            ],
            "image/png": "[encoded data removed]"
          },
          "metadata": {}
        }
      ]
    },
    {
      "cell_type": "code",
      "source": [
        "np.random.seed(42)\n",
        "\n",
        "# Isolate non-missing values from the column\n",
        "non_missing_values = df_clean['HeightInMeters'].dropna()\n",
        "\n",
        "# Perform random imputation for missing values\n",
        "df_clean['HeightInMeters'] = df_clean['HeightInMeters'].apply(\n",
        "    lambda x: np.random.choice(non_missing_values) if pd.isnull(x) else x\n",
        ")\n",
        "\n",
        "df_clean['HeightInMeters'].isnull().sum()"
      ],
      "metadata": {
        "colab": {
          "base_uri": "https://localhost:8080/"
        },
        "id": "FFsGwH_OE8rG",
        "outputId": "61f9b4a2-b407-48a1-b47c-dd0c58131f20"
      },
      "execution_count": 29,
      "outputs": [
        {
          "output_type": "execute_result",
          "data": {
            "text/plain": [
              "0"
            ]
          },
          "metadata": {},
          "execution_count": 29
        }
      ]
    },
    {
      "cell_type": "code",
      "source": [
        "# WeightInKilograms\n",
        "\n",
        "plt.hist(df_clean['WeightInKilograms'].dropna(), bins=30, density=True, alpha=0.6, color='blue')\n",
        "\n",
        "# Fit a normal distribution to the data and calculate mean and standard deviation\n",
        "mean, std = norm.fit(df_clean['WeightInKilograms'].dropna())\n",
        "\n",
        "# Plot the normal curve\n",
        "xmin, xmax = plt.xlim()\n",
        "x = np.linspace(xmin, xmax, 100)\n",
        "p = norm.pdf(x, mean, std)\n",
        "\n",
        "plt.plot(x, p, 'k', linewidth=2)\n",
        "plt.xlabel(\"Weight (kg)\", fontsize=10)\n",
        "plt.ylabel(\"Individuals\", fontsize=10)\n",
        "\n",
        "plt.show()"
      ],
      "metadata": {
        "colab": {
          "base_uri": "https://localhost:8080/",
          "height": 449
        },
        "id": "HUIEua1XFzbs",
        "outputId": "4fe72708-e739-45bf-e0fb-340d2a567cd9"
      },
      "execution_count": 30,
      "outputs": [
        {
          "output_type": "display_data",
          "data": {
            "text/plain": [
              "<Figure size 640x480 with 1 Axes>"
            ],
            "image/png": "[encoded data removed]"
          },
          "metadata": {}
        }
      ]
    },
    {
      "cell_type": "code",
      "source": [
        "knn = KNNImputer(n_neighbors=3, weights='distance')"
      ],
      "metadata": {
        "id": "LQdbcN4cZfQc"
      },
      "execution_count": 31,
      "outputs": []
    },
    {
      "cell_type": "code",
      "source": [
        "df_clean['WeightInKilograms'] = knn.fit_transform(df_clean[['WeightInKilograms']])\n",
        "df_clean['WeightInKilograms'].isnull().sum()"
      ],
      "metadata": {
        "colab": {
          "base_uri": "https://localhost:8080/"
        },
        "id": "TpnUnULpGCY8",
        "outputId": "42f09706-4b62-4adf-9441-6c47671a2b26"
      },
      "execution_count": 32,
      "outputs": [
        {
          "output_type": "execute_result",
          "data": {
            "text/plain": [
              "0"
            ]
          },
          "metadata": {},
          "execution_count": 32
        }
      ]
    },
    {
      "cell_type": "code",
      "source": [
        "plt.hist(df_clean['BMI'].dropna(), bins=30, density=True, alpha=0.6, color='r')\n",
        "\n",
        "# Fit a normal distribution to the data: Calculate mean and standard deviation\n",
        "mean, std = norm.fit(df_clean['BMI'].dropna())\n",
        "\n",
        "# Plot the normal curve\n",
        "xmin, xmax = plt.xlim()\n",
        "x = np.linspace(xmin, xmax, 100)\n",
        "p = norm.pdf(x, mean, std)\n",
        "\n",
        "plt.plot(x, p, 'k', linewidth=2)\n",
        "plt.title('BMI')\n",
        "\n",
        "plt.show()"
      ],
      "metadata": {
        "colab": {
          "base_uri": "https://localhost:8080/",
          "height": 452
        },
        "id": "IorEbmWaGr-8",
        "outputId": "9ec377e0-8abb-4b0e-b017-3ff93d345790"
      },
      "execution_count": 33,
      "outputs": [
        {
          "output_type": "display_data",
          "data": {
            "text/plain": [
              "<Figure size 640x480 with 1 Axes>"
            ],
            "image/png": "[encoded data removed]"
          },
          "metadata": {}
        }
      ]
    },
    {
      "cell_type": "code",
      "source": [
        "df_clean['BMI'] = knn.fit_transform(df_clean[['BMI']])\n",
        "df_clean['BMI'].isnull().sum()"
      ],
      "metadata": {
        "colab": {
          "base_uri": "https://localhost:8080/"
        },
        "id": "9AIwxNIeGwsv",
        "outputId": "6cd43738-493c-4a21-a23b-65d9cfaf398e"
      },
      "execution_count": 34,
      "outputs": [
        {
          "output_type": "execute_result",
          "data": {
            "text/plain": [
              "0"
            ]
          },
          "metadata": {},
          "execution_count": 34
        }
      ]
    },
    {
      "cell_type": "code",
      "source": [
        "df_selected = df_clean.select_dtypes(include=['number'])\n",
        "correlation_matrix = df_selected.corr()\n",
        "\n",
        "plt.figure(figsize=(10,8))\n",
        "sns.heatmap(correlation_matrix, annot=True, cmap='coolwarm')\n",
        "plt.show()"
      ],
      "metadata": {
        "colab": {
          "base_uri": "https://localhost:8080/",
          "height": 805
        },
        "id": "HRbXnV-_TMze",
        "outputId": "666e4352-737c-47a9-d971-8510cf1fa4ab"
      },
      "execution_count": 227,
      "outputs": [
        {
          "output_type": "display_data",
          "data": {
            "text/plain": [
              "<Figure size 1000x800 with 2 Axes>"
            ],
            "image/png": "[encoded data removed]"
          },
          "metadata": {}
        }
      ]
    },
    {
      "cell_type": "code",
      "source": [
        "df_clean.drop('WeightInKilograms', inplace=True, axis=1)"
      ],
      "metadata": {
        "id": "LjGVzbJBa76A"
      },
      "execution_count": 175,
      "outputs": []
    },
    {
      "cell_type": "code",
      "source": [
        "# finding outliers\n",
        "\n",
        "for col in df_clean.describe().columns:\n",
        "    sns.set_style('ticks')\n",
        "    plt.figure(figsize=(16, 2))\n",
        "    sns.boxplot(data=df_clean, x=col)\n",
        "    plt.show()"
      ],
      "metadata": {
        "colab": {
          "base_uri": "https://localhost:8080/",
          "height": 911
        },
        "id": "x8EuuK4XbCSK",
        "outputId": "ac3e02a1-4f97-4cfb-be31-72d747563a49"
      },
      "execution_count": 180,
      "outputs": [
        {
          "output_type": "display_data",
          "data": {
            "text/plain": [
              "<Figure size 1600x200 with 1 Axes>"
            ],
            "image/png": "[encoded data removed]"
          },
          "metadata": {}
        },
        {
          "output_type": "display_data",
          "data": {
            "text/plain": [
              "<Figure size 1600x200 with 1 Axes>"
            ],
            "image/png": "[encoded data removed]"
          },
          "metadata": {}
        },
        {
          "output_type": "display_data",
          "data": {
            "text/plain": [
              "<Figure size 1600x200 with 1 Axes>"
            ],
            "image/png": "[encoded data removed]"
          },
          "metadata": {}
        },
        {
          "output_type": "display_data",
          "data": {
            "text/plain": [
              "<Figure size 1600x200 with 1 Axes>"
            ],
            "image/png": "[encoded data removed]"
          },
          "metadata": {}
        },
        {
          "output_type": "display_data",
          "data": {
            "text/plain": [
              "<Figure size 1600x200 with 1 Axes>"
            ],
            "image/png": "[encoded data removed]"
          },
          "metadata": {}
        }
      ]
    },
    {
      "cell_type": "code",
      "source": [
        "fig, axes = plt.subplots(nrows=2, ncols=3, figsize=(15, 10))\n",
        "\n",
        "sns.histplot(df_clean['BMI'], kde=True, ax=axes[0, 0])\n",
        "\n",
        "sns.histplot(df_clean['HeightInMeters'], kde=True, ax=axes[0, 1])\n",
        "\n",
        "sns.histplot(df_clean['SleepHours'], kde=True, ax=axes[0, 2])\n",
        "\n",
        "sns.histplot(df_clean['MentalHealthDays'], kde=True, ax=axes[1, 0])\n",
        "\n",
        "sns.histplot(df_clean['PhysicalHealthDays'], kde=True, ax=axes[1, 1])\n",
        "\n",
        "fig.delaxes(axes[1][2])\n",
        "plt.tight_layout()\n",
        "plt.show()"
      ],
      "metadata": {
        "colab": {
          "base_uri": "https://localhost:8080/",
          "height": 709
        },
        "id": "UIot97kPbfPi",
        "outputId": "1f0ace85-4899-4741-c267-8dedb7d8d36c"
      },
      "execution_count": 178,
      "outputs": [
        {
          "output_type": "display_data",
          "data": {
            "text/plain": [
              "<Figure size 1500x1000 with 5 Axes>"
            ],
            "image/png": "[encoded data removed]"
          },
          "metadata": {}
        }
      ]
    },
    {
      "cell_type": "code",
      "source": [
        "#Function for extracting outliers in column of dataframe\n",
        "def get_outliers(df_clean, column):\n",
        "    Q1 = df_clean[column].quantile(0.25)\n",
        "    Q3 = df_clean[column].quantile(0.75)\n",
        "    IQR = Q3-Q1\n",
        "\n",
        "    lower_limit = Q1 - (IQR * 1.5)\n",
        "    upper_limit = Q3 + (IQR * 1.5)\n",
        "\n",
        "    outliers = df_clean[(df_clean[column] < lower_limit) | (df_clean[column] > upper_limit)]\n",
        "\n",
        "    return outliers, lower_limit, upper_limit"
      ],
      "metadata": {
        "id": "NBTHODlGdK6V"
      },
      "execution_count": 183,
      "outputs": []
    },
    {
      "cell_type": "code",
      "source": [
        "# SleepHours\n",
        "sleep_hours_outliers, lower_sleep, upper_sleep = get_outliers(df_clean, 'SleepHours')\n",
        "\n",
        "print(f\"Lower Limit:{lower_sleep})\\nUpper Limit:{upper_sleep})\")"
      ],
      "metadata": {
        "colab": {
          "base_uri": "https://localhost:8080/"
        },
        "id": "sYNsBGoqdMS6",
        "outputId": "266fe06a-1e18-48fb-c476-a9fef15213e6"
      },
      "execution_count": 192,
      "outputs": [
        {
          "output_type": "stream",
          "name": "stdout",
          "text": [
            "Lower Limit:3.0)\n",
            "Upper Limit:11.0)\n"
          ]
        }
      ]
    },
    {
      "cell_type": "code",
      "source": [
        "# Dropping records with sleep less than 3 hours\n",
        "df_clean = df_clean.drop(df_clean[df_clean['SleepHours'] < 3].index)\n",
        "df_clean.reset_index(drop=True, inplace=True)\n",
        "df_clean.shape"
      ],
      "metadata": {
        "colab": {
          "base_uri": "https://localhost:8080/"
        },
        "id": "JYe7Y1eddMGH",
        "outputId": "831babf5-3b4e-45e0-8734-6930d7b23558"
      },
      "execution_count": 188,
      "outputs": [
        {
          "output_type": "execute_result",
          "data": {
            "text/plain": [
              "(442429, 29)"
            ]
          },
          "metadata": {},
          "execution_count": 188
        }
      ]
    },
    {
      "cell_type": "code",
      "source": [
        "# Dropping record with sleep greater than 16 hourss\n",
        "df_clean = df_clean.drop(df_clean[df_clean['SleepHours'] > 12].index)\n",
        "df_clean.reset_index(drop=True, inplace=True)\n",
        "df_clean.shape"
      ],
      "metadata": {
        "colab": {
          "base_uri": "https://localhost:8080/"
        },
        "id": "nI6qoEbRd9CG",
        "outputId": "68e7ce93-81e0-4019-d4ab-8723c25f0b02"
      },
      "execution_count": 197,
      "outputs": [
        {
          "output_type": "execute_result",
          "data": {
            "text/plain": [
              "(440506, 29)"
            ]
          },
          "metadata": {},
          "execution_count": 197
        }
      ]
    },
    {
      "cell_type": "code",
      "source": [
        "# HeightInMeters\n",
        "height_outliers, lower_height, upper_height = get_outliers(df_clean, 'HeightInMeters')\n",
        "\n",
        "print(f\"Lower Limit:{lower_height})\\nUpper Limit:{upper_height})\")"
      ],
      "metadata": {
        "colab": {
          "base_uri": "https://localhost:8080/"
        },
        "id": "4q7igzMheCR-",
        "outputId": "f7b4bfb0-f307-4296-929f-89ee0d4db50b"
      },
      "execution_count": 193,
      "outputs": [
        {
          "output_type": "stream",
          "name": "stdout",
          "text": [
            "Lower Limit:1.4049999999999998)\n",
            "Upper Limit:2.0050000000000003)\n"
          ]
        }
      ]
    },
    {
      "cell_type": "code",
      "source": [
        "# Dropping records with height less than 1.3 meters\n",
        "df_clean = df_clean.drop(df_clean[df_clean['HeightInMeters'] < 1.3].index)\n",
        "df_clean.reset_index(drop=True, inplace=True)\n",
        "df_clean.shape"
      ],
      "metadata": {
        "colab": {
          "base_uri": "https://localhost:8080/"
        },
        "id": "-QsyHyrWeo_X",
        "outputId": "c07f5285-da06-4e49-9fd8-45bbb2acfff0"
      },
      "execution_count": 195,
      "outputs": [
        {
          "output_type": "execute_result",
          "data": {
            "text/plain": [
              "(441712, 29)"
            ]
          },
          "metadata": {},
          "execution_count": 195
        }
      ]
    },
    {
      "cell_type": "code",
      "source": [
        "# Dropping records with height greater than 2.1 meters\n",
        "df_clean = df_clean.drop(df_clean[df_clean['HeightInMeters'] > 2.1].index)\n",
        "df_clean.reset_index(drop=True, inplace=True)\n",
        "df_clean.shape"
      ],
      "metadata": {
        "colab": {
          "base_uri": "https://localhost:8080/"
        },
        "id": "6gBlaNYnfxfb",
        "outputId": "580abe27-ab78-414c-9f08-3586d88de2c8"
      },
      "execution_count": 204,
      "outputs": [
        {
          "output_type": "execute_result",
          "data": {
            "text/plain": [
              "(28245, 29)"
            ]
          },
          "metadata": {},
          "execution_count": 204
        }
      ]
    },
    {
      "cell_type": "code",
      "source": [
        "# BMI\n",
        "BMI_outliers, lower_BMI, upper_BMI = get_outliers(df_clean, 'BMI')\n",
        "\n",
        "print(f\"Lower Limit:{lower_BMI})\\nUpper Limit:{upper_BMI})\")"
      ],
      "metadata": {
        "colab": {
          "base_uri": "https://localhost:8080/"
        },
        "id": "ST9emEAefDZp",
        "outputId": "9611db68-5415-43a6-8696-cc269490b98d"
      },
      "execution_count": 205,
      "outputs": [
        {
          "output_type": "stream",
          "name": "stdout",
          "text": [
            "Lower Limit:nan)\n",
            "Upper Limit:nan)\n"
          ]
        }
      ]
    },
    {
      "cell_type": "code",
      "source": [
        "# Dropping records with BMI less than 12\n",
        "df_clean = df_clean.drop(df_clean[df_clean['HeightInMeters'] < 12].index)\n",
        "df_clean.reset_index(drop=True, inplace=True)\n",
        "df_clean.shape"
      ],
      "metadata": {
        "colab": {
          "base_uri": "https://localhost:8080/"
        },
        "id": "cJOmhpbngtUu",
        "outputId": "1f5d2f8c-a522-4b67-ad42-02518a095266"
      },
      "execution_count": 206,
      "outputs": [
        {
          "output_type": "execute_result",
          "data": {
            "text/plain": [
              "(28245, 29)"
            ]
          },
          "metadata": {},
          "execution_count": 206
        }
      ]
    }
  ]
}
